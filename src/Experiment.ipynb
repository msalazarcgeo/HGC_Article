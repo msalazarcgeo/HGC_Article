{
 "cells": [
  {
   "cell_type": "markdown",
   "id": "4bf49611",
   "metadata": {},
   "source": [
    "# Hierarchical Geographical Clustering \n",
    "\n",
    "In this notebook an example on how to the data was created for the *Hierarchical Geo Clustering* article was created and all the evaluations from it. "
   ]
  },
  {
   "cell_type": "code",
   "execution_count": 1,
   "id": "c1ca0bf9-2b69-4c84-a959-a44e1b20a2d0",
   "metadata": {},
   "outputs": [
    {
     "name": "stderr",
     "output_type": "stream",
     "text": [
      "/home/miguel/anaconda3/envs/article_HGC/lib/python3.8/site-packages/geopandas/_compat.py:111: UserWarning: The Shapely GEOS version (3.9.1-CAPI-1.14.2) is incompatible with the GEOS version PyGEOS was compiled with (3.10.1-CAPI-1.16.0). Conversions between both will be slow.\n",
      "  warnings.warn(\n"
     ]
    },
    {
     "data": {
      "text/plain": [
       "<module 'src.evaluation_helpers' from '/Partition1/Cgeo/git/HGC_Article/src/evaluation_helpers.py'>"
      ]
     },
     "execution_count": 1,
     "metadata": {},
     "output_type": "execute_result"
    }
   ],
   "source": [
    "import os\n",
    "import sys\n",
    "import matplotlib.pyplot as plt\n",
    "import matplotlib.colors\n",
    "import numpy as np\n",
    "import seaborn as sns\n",
    "import pandas as pd\n",
    "import importlib\n",
    "from shapely.ops import polygonize_full, linemerge, unary_union\n",
    "module_path = os.path.abspath(os.path.join('..'))\n",
    "if module_path not in sys.path:\n",
    "    sys.path.append(module_path)\n",
    "import src.evaluation_helpers \n",
    "import seaborn\n",
    "import itertools\n",
    "from sklearn import metrics\n",
    "import geopandas as gpd\n",
    "import warnings\n",
    "#warnings.simplefilter('ignore')\n",
    "sns.set_style(\"darkgrid\")\n",
    "importlib.reload(src.evaluation_helpers) "
   ]
  },
  {
   "cell_type": "markdown",
   "id": "137ae0b3",
   "metadata": {},
   "source": [
    "To install the library inside an enviroment can be done by creating a new enviroment and then installing the HierarchicalGeoClustering library. Since most of the library dependencies can be installed using pip and are install when the library is install we can not worry abo them, except one dependency the *CGAL* library. The easys way to install such dependensy is through conda, to do so conda-forge has the CGAL library ready to install by `conda install -c conda-forge cgal`. To install the library the fowoling comand do the trick.\n",
    "\n",
    "\n",
    "`pip install git+https://github.com/CentroGeo/HierarchicalGeoClustering.git`\n"
   ]
  },
  {
   "cell_type": "markdown",
   "id": "9eaaf8a4-e321-4f7e-8e2f-f1693fcd70f1",
   "metadata": {},
   "source": [
    "With the library installed we now can create as many examples as we want and the corresponding results. To do so the file `create_experiment_script.py` does all the work to create the experiment and get only the result of them. The file uses `Clustering.generate_tree_clusterize_form` function to create the original data, and  clusterize using the *\"Natural Cities\", \"DBSCAN\", \"OPTICS\", \"HDBSCAN\", and \"Adaptative DBSCAN\"* algorithms. The results are store in several csv files in a specific path (seto to `../output/Data_experiments/`). The resulting files are the following:\n",
    "\n",
    "* Exp_i_original_retag.csv contains the original points with its original corresponding tag.\n",
    "* Exp_i_Natural_C.csv contains the points with the labels assigned for the Natural cities clusterization algorithm.\n",
    "* Exp_i_DBSCAN.csv contains the points with the labels assigned for the DBSCAN clusterization algorithm.\n",
    "* Exp_i_OPTICS.csv contains the points with the labels assigned for the OPTICS clusterization algorithm.\n",
    "* Exp_i_HDBSCAN.csv contains the points with the labels assigned for the HDBSCAN clusterization algorithm.\n",
    "* Exp_i_Adap_DBSCAN.csv contains the points with the labels assigned for the Adaptative DBSCAN clusterization algorithm.\n",
    "\n",
    "* Exp_i_original_Noise_signal.csv contains the original points with its corresponding tags of Noise or signal. \n",
    "* Exp_i_Natural_C_Noise_signal.csv contains the points with the labels Noise or Signal on the corresponding label assigned for the Natural cities clusterization algorithm.\n",
    "* Exp_i_DBSCAN_Noise_signal.csv contains the points with the labels Noise or Signal assigned for the DBSCAN clusterization algorithm.\n",
    "* Exp_i_OPTICS_Noise_signal.csv contains the points with the labels Noise or Signal assigned for the OPTICS clusterization algorithm.\n",
    "* Exp_i_HDBSCAN_Noise_signal.csv contains the points with the labels Noise or Signal assigned for the HDBSCAN clusterization algorithm.\n",
    "* Exp_i_Adap_DBSCAN_Noise_signal.csv contains the points with the labels Noise or Signal assigned for the Adaptative DBSCAN clusterization algorithm.\n",
    "\n",
    "* Exp_i_Similarity The comparasing of all clusterization algorithms using the Similarity Shape Mesurment.\n",
    "\n",
    "\n",
    "The comparations are made using the *\"Normalize Mutual Information\", \"Balanced Accuracy Score\", and \"Similarity Shape Measurement\"*. For the *\"Normalize Mutual Information\" and \"Balanced Accuracy Score\"* are made in the `get_results_level` define in this notebook using the tags in the \"Noise_signal\" files. For the Similarity Shape Measurement, the polygons of the clusterizations are needed therefore the comparations are done inside the `generate_tree_clusterize_form` function inside the create experiment script. \n",
    "\n",
    "\n",
    "In this notebook only $3$ examples for each pair of levels ($3,4,5$) and points per cluster ($200, 300, 400$) are made. The results are sore in folders for each level (had to be previusly created). With the data created the corresponding plots are made. The data used for the articles has a lot more experiments. \n",
    "\n",
    "\n",
    "More experiments can be created by changing the amount of experiments to create, this takes a lot of time since is **computer intensive**. \n"
   ]
  },
  {
   "cell_type": "markdown",
   "id": "8dc91145-6ba1-4fc3-b3bb-e5d6c28441eb",
   "metadata": {},
   "source": [
    "If all the notebook has been run previusly and some experiments has already been done, the flag `create_more` set to `True` can be use to create more experiments with out lossing the previus generated. The `--prefix` should be changed every time a new batch of new experiments is created to differentiate the resulting files.\n",
    "\n",
    "More experiments can be created by changing the amount of experiments to create, this takes a lot of time since is **computer intensive**. "
   ]
  },
  {
   "cell_type": "markdown",
   "id": "50fa29c5-d407-407e-9f4f-dc20527be37b",
   "metadata": {},
   "source": [
    "The `create_experiment_script` can be call using the terminal inside an enviroment with the HierarchicalGeoClustering library installed.\n",
    "\n",
    "To call the script can be done like:\n",
    "\n",
    "`python create_experiment_script.py --exp Num_exp --levels Level --points N --path Path` \n",
    "\n",
    "Where `Num_exp` is the number of experiments to create, `Level`the number of levels, $N$ is the number of points per cluster and the `Path` is the path where to store the resulting data. \n",
    "\n",
    "In this notebook the path of the resulting files is `../output/Data_experiments/Level_i/N_p` modifing the `Level_i` and `N_p` accordingly."
   ]
  },
  {
   "cell_type": "code",
   "execution_count": 36,
   "id": "d34a7d44-5b20-4337-a979-7eae32b1fce5",
   "metadata": {},
   "outputs": [],
   "source": [
    "create_more=False ## If previus data has been created"
   ]
  },
  {
   "cell_type": "markdown",
   "id": "403bf5b1-ba51-4c80-9674-7df9a6486091",
   "metadata": {},
   "source": [
    "## Level 3"
   ]
  },
  {
   "cell_type": "markdown",
   "id": "771d5c1d-48b4-4e2c-83f4-cc7314c43b2d",
   "metadata": {},
   "source": [
    "Create 3 experiments with 3 levels with 200 points and store in `../output/Data_experiments/Level_3/200_p`"
   ]
  },
  {
   "cell_type": "code",
   "execution_count": 3,
   "id": "ba1a202e",
   "metadata": {
    "tags": []
   },
   "outputs": [
    {
     "name": "stdout",
     "output_type": "stream",
     "text": [
      "Directory is not empty\n",
      "Not create more experiments\n"
     ]
    }
   ],
   "source": [
    "if not os.listdir('../output/Data_experiments/Level_3/200_p/') :\n",
    "    print(\"Directory is empty\")\n",
    "    print(\"Creating experiments\")\n",
    "    %%run create_experiment_script.py --exp 3 --levels 3 --points 200 --path ../output/Data_experiments/Level_3/200_p\n",
    "else:    \n",
    "    print(\"Directory is not empty\")\n",
    "    if create_more:\n",
    "        print('create more experiments')\n",
    "        %run create_experiment_script.py --exp 1 --levels 3 --points 200 --prefix b1_ --path ../output/Data_experiments/Level_3/200_p\n",
    "    else:\n",
    "        print(\"Not create more experiments\")"
   ]
  },
  {
   "cell_type": "markdown",
   "id": "a7ce001a-5c44-43fe-a85e-aa61a294d61a",
   "metadata": {},
   "source": [
    "Create 3 experiments with 3 levels with 300 points and store in `../output/Data_experiments/Level_3/300_p`"
   ]
  },
  {
   "cell_type": "code",
   "execution_count": 4,
   "id": "f0b260d9",
   "metadata": {
    "tags": []
   },
   "outputs": [
    {
     "name": "stdout",
     "output_type": "stream",
     "text": [
      "Directory is not empty\n",
      "Not create more experiments\n"
     ]
    }
   ],
   "source": [
    "if not os.listdir('../output/Data_experiments/Level_3/300_p') :\n",
    "    print(\"Directory is empty\")\n",
    "    print(\"Creating experiments\")\n",
    "    %%run create_experiment_script.py --exp 3 --levels 3 --points 300 --path ../output/Data_experiments/Level_3/300_p\n",
    "else:    \n",
    "    print(\"Directory is not empty\")\n",
    "    if create_more:\n",
    "        print('create more experiments')\n",
    "        %run create_experiment_script.py --exp 3 --levels 3 --points 300 --prefix b1_ --path ../output/Data_experiments/Level_3/300_p\n",
    "    else:\n",
    "        print(\"Not create more experiments\")"
   ]
  },
  {
   "cell_type": "markdown",
   "id": "09aae74d-07ca-4a00-a0a5-649896bf6c76",
   "metadata": {},
   "source": [
    "Create 3 experiments with 3 levels with 400 points and store in `../output/Data_experiments/Level_3/400_p`"
   ]
  },
  {
   "cell_type": "code",
   "execution_count": 5,
   "id": "1444e076-353d-4094-99dd-8cfd5f74f52e",
   "metadata": {
    "tags": []
   },
   "outputs": [
    {
     "name": "stdout",
     "output_type": "stream",
     "text": [
      "Directory is not empty\n",
      "Not create more experiments\n"
     ]
    }
   ],
   "source": [
    "if not os.listdir('../output/Data_experiments/Level_3/400_p') :\n",
    "    print(\"Directory is empty\")\n",
    "    print(\"Creating experiments\")\n",
    "    %%run create_experiment_script.py --exp 3 --levels 3 --points 400 --path ../output/Data_experiments/Level_3/400_p\n",
    "else:    \n",
    "    print(\"Directory is not empty\")\n",
    "    if create_more:\n",
    "        print('create more experiments')\n",
    "        %run create_experiment_script.py --exp 3 --levels 3 --points 400 --prefix b1_ --path ../output/Data_experiments/Level_3/400_p\n",
    "    else:\n",
    "        print(\"Not create more experiments\")"
   ]
  },
  {
   "cell_type": "markdown",
   "id": "2658ec6c-093c-4dec-bef0-e31b5a351d05",
   "metadata": {},
   "source": [
    "## Level 4"
   ]
  },
  {
   "cell_type": "markdown",
   "id": "47af0dd9-bea7-41c8-bffd-06da66f868f0",
   "metadata": {},
   "source": [
    "Create 3 experiments with 4 levels with 200 points and store in `../output/Data_experiments/Level_4/200_p`"
   ]
  },
  {
   "cell_type": "code",
   "execution_count": 6,
   "id": "465f85d3-51c5-421c-8c19-0b85d610c726",
   "metadata": {
    "tags": []
   },
   "outputs": [
    {
     "name": "stdout",
     "output_type": "stream",
     "text": [
      "Directory is not empty\n",
      "Not create more experiments\n"
     ]
    }
   ],
   "source": [
    "if not os.listdir('../output/Data_experiments/Level_4/200_p') :\n",
    "    print(\"Directory is empty\")\n",
    "    print(\"Creating experiments\")\n",
    "    %run create_experiment_script.py --exp 3 --levels 4 --points 200 --path ../output/Data_experiments/Level_4/200_p\n",
    "else:    \n",
    "    print(\"Directory is not empty\")\n",
    "    if create_more:\n",
    "        print('create more experiments')\n",
    "        %run create_experiment_script.py --exp 3 --levels 4 --points 200 --prefix b1_ --path ../output/Data_experiments/Level_4/200_p\n",
    "    else:\n",
    "        print(\"Not create more experiments\")\n"
   ]
  },
  {
   "cell_type": "markdown",
   "id": "113a5c2f-4f02-4f63-9ada-f02e2a0b2902",
   "metadata": {},
   "source": [
    "Create 3 experiments with 4 levels with 300 points and store in `../output/Data_experiments/Level_4/300_p`"
   ]
  },
  {
   "cell_type": "code",
   "execution_count": 7,
   "id": "557c9d3b-1347-470d-8ab7-40ee71d18511",
   "metadata": {
    "tags": []
   },
   "outputs": [
    {
     "name": "stdout",
     "output_type": "stream",
     "text": [
      "Directory is not empty\n",
      "Not create more experiments\n"
     ]
    }
   ],
   "source": [
    "if not os.listdir('../output/Data_experiments/Level_4/300_p') :\n",
    "    print(\"Directory is empty\")\n",
    "    print(\"Creating experiments\")\n",
    "    %run create_experiment_script.py --exp 3 --levels 4 --points 300 --path ../output/Data_experiments/Level_4/300_p\n",
    "else:    \n",
    "    print(\"Directory is not empty\")\n",
    "    if create_more:\n",
    "        print('create more experiments')\n",
    "        %run create_experiment_script.py --exp 3 --levels 4 --points 300 --prefix b1_ --path ../output/Data_experiments/Level_4/300_p\n",
    "    else:\n",
    "        print(\"Not create more experiments\")"
   ]
  },
  {
   "cell_type": "markdown",
   "id": "60e8097b-0f91-4639-81fe-f7f321065c87",
   "metadata": {},
   "source": [
    "Create 3 experiments with 4 levels with 400 points and store in `../output/Data_experiments/Level_4/400_p`"
   ]
  },
  {
   "cell_type": "code",
   "execution_count": 8,
   "id": "1f104bed-22fe-4fc4-a1c9-d96acf983388",
   "metadata": {
    "tags": []
   },
   "outputs": [
    {
     "name": "stdout",
     "output_type": "stream",
     "text": [
      "Directory is not empty\n",
      "Not create more experiments\n"
     ]
    }
   ],
   "source": [
    "if not os.listdir('../output/Data_experiments/Level_4/400_p') :\n",
    "    print(\"Directory is empty\")\n",
    "    print(\"Creating experiments\")\n",
    "    %run create_experiment_script.py --exp 3 --levels 4 --points 400 --path ../output/Data_experiments/Level_4/400_p\n",
    "else:    \n",
    "    print(\"Directory is not empty\")\n",
    "    if create_more:\n",
    "        print('create more experiments')\n",
    "        %run create_experiment_script.py --exp 3 --levels 4 --points 400 --prefix b1_ --path ../output/Data_experiments/Level_4/400_p\n",
    "    else:\n",
    "        print(\"Not create more experiments\")\n"
   ]
  },
  {
   "cell_type": "markdown",
   "id": "530d2278-0920-4752-a345-24593a5886fb",
   "metadata": {},
   "source": [
    "## Level 5"
   ]
  },
  {
   "cell_type": "markdown",
   "id": "7942556f-f149-4634-a9de-efdcf772c381",
   "metadata": {},
   "source": [
    "Create 3 experiments with 5 levels with 200 points and store in `../output/Data_experiments/Level_5/200_p`"
   ]
  },
  {
   "cell_type": "code",
   "execution_count": 9,
   "id": "7bfb9d7e-52f8-438f-87fc-f39f267277cf",
   "metadata": {
    "tags": []
   },
   "outputs": [
    {
     "name": "stdout",
     "output_type": "stream",
     "text": [
      "Directory is not empty\n",
      "Not create more experiments\n"
     ]
    }
   ],
   "source": [
    "if not os.listdir('../output/Data_experiments/Level_5/200_p') :\n",
    "    print(\"Directory is empty\")\n",
    "    print(\"Creating experiments\")\n",
    "    %run create_experiment_script.py --exp 3 --levels 5 --points 200 --path ../output/Data_experiments/Level_5/200_p\n",
    "else:    \n",
    "    print(\"Directory is not empty\")\n",
    "    if create_more:\n",
    "        print('create more experiments')\n",
    "        %run create_experiment_script.py --exp 3 --levels 5 --points 200 --prefix b1_ --path ../output/Data_experiments/Level_5/200_p\n",
    "    else:\n",
    "        print(\"Not create more experiments\")"
   ]
  },
  {
   "cell_type": "markdown",
   "id": "fc1c14ff-f34c-4f0f-b62b-2ca50d2df96a",
   "metadata": {},
   "source": [
    "Create 3 experiments with 4 levels with 300 points and store in `../output/Data_experiments/Level_5/300_p`"
   ]
  },
  {
   "cell_type": "code",
   "execution_count": 10,
   "id": "8230b51c-94af-42c4-a342-5865160f8c64",
   "metadata": {
    "tags": []
   },
   "outputs": [
    {
     "name": "stdout",
     "output_type": "stream",
     "text": [
      "Directory is not empty\n",
      "Not create more experiments\n"
     ]
    }
   ],
   "source": [
    "if not os.listdir('../output/Data_experiments/Level_5/300_p') :\n",
    "    print(\"Directory is empty\")\n",
    "    print(\"Creating experiments\")\n",
    "    %run create_experiment_script.py --exp 3 --levels 5 --points 300 --path ../output/Data_experiments/Level_5/300_p\n",
    "else:    \n",
    "    print(\"Directory is not empty\")\n",
    "    if create_more:\n",
    "        print('create more experiments')\n",
    "        %run create_experiment_script.py --exp 3 --levels 5 --points 300 --prefix b1_ --path ../output/Data_experiments/Level_5/300_p\n",
    "    else:\n",
    "        print(\"Not create more experiments\")"
   ]
  },
  {
   "cell_type": "markdown",
   "id": "509a8630-c96c-4e28-8615-c08458322220",
   "metadata": {},
   "source": [
    "Create 3 experiments with 4 levels with 400 points and store in `../output/Data_experiments/Level_4/400_p`"
   ]
  },
  {
   "cell_type": "code",
   "execution_count": 11,
   "id": "5d4010a6-c405-4707-aa1d-a2873a8245b5",
   "metadata": {
    "tags": []
   },
   "outputs": [
    {
     "name": "stdout",
     "output_type": "stream",
     "text": [
      "Directory is not empty\n",
      "Not create more experiments\n"
     ]
    }
   ],
   "source": [
    "if not os.listdir('../output/Data_experiments/Level_4/400_p') :\n",
    "    print(\"Directory is empty\")\n",
    "    print(\"Creating experiments\")\n",
    "    %run create_experiment_script.py --exp 3 --levels 5 --points 400 --path ../output/Data_experiments/Level_5/400_p\n",
    "else:    \n",
    "    print(\"Directory is not empty\")\n",
    "    if create_more:\n",
    "        print('create more experiments')\n",
    "        %run create_experiment_script.py --exp 3 --levels 5 --points 400 --prefix b1_ --path ../output/Data_experiments/Level_5/400_p\n",
    "    else:\n",
    "        print(\"Not create more experiments\")"
   ]
  },
  {
   "cell_type": "markdown",
   "id": "f20dd53a-9ab1-4e14-bc1f-18b14754a151",
   "metadata": {},
   "source": [
    "## Load Save data \n",
    "\n",
    "The following function gets the data from the save \"Noise_signal\" csv files and put it in a corresponding dataframe, the \"Normalize Mutual Information\" is obtained using all the tags levels in the *\"concat_tags_signal\"* column for each clustering algorithm versus the original tags. The results are inserted inside a Dataframe for all the experiments with its corresponding tag. \n",
    "\n",
    "To evaluate the \"Balanced Acuracy Score\" the evaluation is done using the `Eval_level_metric` in the \"evaluation_helpers.py\" file, the function has been created to evaluate on different types of metrics. The results are inserted in a DataFrame one for each level for each experiment.   \n",
    "\n",
    "The function also exctracts the results of the \"Similarity Shape Mesurment\" and  insertem inside a DataFrame also une for each distinct level and for each experiment. "
   ]
  },
  {
   "cell_type": "code",
   "execution_count": 12,
   "id": "9b364a09-ee41-409e-af04-42fa6627b89c",
   "metadata": {},
   "outputs": [],
   "source": [
    "def get_results_level( path_ , points_li ):\n",
    "    \"\"\"\n",
    "    Gets the results by level \n",
    "    \"\"\"\n",
    "    \n",
    "    paths= []\n",
    "    prefixs = []\n",
    "    for num in points_li:\n",
    "        path = path_+ str(num)+'_p'\n",
    "        #print(path)\n",
    "        all_files = os.listdir(path)\n",
    "        prefix = list(set([ key for key, valu in itertools.groupby(all_files,\n",
    "                                                             lambda l: l[:l.find('_',\n",
    "                                                                                 l.find('_')+2)\n",
    "                                                                        ]\n",
    "                                                            )]))\n",
    "        paths.append(path)\n",
    "        prefixs.append(prefix)\n",
    "    \n",
    "    ziped_files = zip(paths, prefixs, points_li)        \n",
    "    all_levels = []\n",
    "    all_points = []\n",
    "    all_similarity = []\n",
    "    for path ,files, size in ziped_files :\n",
    "        #print(files)\n",
    "        for pre in files:\n",
    "            all_dataframes_Exp_i = {\n",
    "                                'original_retag': pd.read_csv(path +'/'+ pre +'_original_retag_Noise_signal.csv'),\n",
    "                                'Natural_C': pd.read_csv(path +'/'+ pre +'_Natural_C_Noise_signal.csv'),\n",
    "                                'DBSCAN': pd.read_csv(path +'/'+ pre +'_DBSCAN_Noise_signal.csv'),\n",
    "                                'OPTICS': pd.read_csv(path +'/'+ pre +'_OPTICS_Noise_signal.csv'),\n",
    "                                'HDBSCAN': pd.read_csv(path +'/'+ pre +'_HDBSCAN_Noise_signal.csv'),\n",
    "                                #'Adap_DBSCAN': pd.read_csv(path +'/'+ pre +'_knee_Noise_signal.csv'),\n",
    "                                'Adap_DBSCAN': pd.read_csv(path +'/'+ pre +'_Adap_DBSCAN_Noise_signal.csv'),\n",
    "                                }\n",
    "\n",
    "\n",
    "            #### All \n",
    "            all_origi = all_dataframes_Exp_i['original_retag']['concat_tags_signal']\n",
    "            all_df_no = ['Natural_C', 'DBSCAN', 'OPTICS', 'HDBSCAN', 'Adap_DBSCAN']\n",
    "            #all_df_no = ['Natural_C', 'DBSCAN', 'OPTICS', 'HDBSCAN', 'knee']\n",
    "            dic_allpoints = {}\n",
    "            val = all_dataframes_Exp_i['original_retag']['concat_tags_signal'].apply(lambda l: len(l.split('_'))).unique()[0]\n",
    "            for df_name in all_df_no:\n",
    "                \n",
    "                all_clus_i = all_dataframes_Exp_i[df_name]['concat_tags_signal']\n",
    "                res_all = metrics.normalized_mutual_info_score(all_origi, all_clus_i)##### Other metri\n",
    "                dic_allpoints[df_name] = res_all\n",
    "            \n",
    "            dic_allpoints['Experiment'] = pre +'_' + str(size)\n",
    "            dic_allpoints['Clus_size'] = size\n",
    "            all_points.append(dic_allpoints)\n",
    "\n",
    "\n",
    "            for i in range(0, val):\n",
    "                leves_lis_i = src.evaluation_helpers.Eval_level_metric(all_dataframes_Exp_i, \n",
    "                                                metric_eval=metrics.balanced_accuracy_score,\n",
    "                                                level=i)\n",
    "                leves_lis_i['Experiment'] = pre+'_'+ str(size)\n",
    "                leves_lis_i['Clus_size'] = size\n",
    "                all_levels.append(leves_lis_i)\n",
    "        \n",
    "        \n",
    "            df_similarity= pd.read_csv(path +'/'+ pre + '_Similarity.csv')\n",
    "            df_similarity['Experiment']= pre + '_'+ str(size)\n",
    "            df_similarity['Clus_size']= size\n",
    "            all_similarity.append(df_similarity)\n",
    "            all_concat= pd.concat(all_similarity, sort=False)\n",
    "            all_concat.drop('Unnamed: 0', axis=1, inplace=True)\n",
    "\n",
    "    all_data = pd.DataFrame(all_levels)\n",
    "    df_all_points= pd.DataFrame(all_points)\n",
    "    return {'BA':all_data, 'NMI': df_all_points, 'SSM':all_concat}\n",
    "    \n",
    "    "
   ]
  },
  {
   "cell_type": "code",
   "execution_count": 13,
   "id": "af1f9c22",
   "metadata": {},
   "outputs": [],
   "source": [
    "lev_3= get_results_level(path_= '../output/Data_experiments/Level_3/', points_li=[200,300,400])"
   ]
  },
  {
   "cell_type": "code",
   "execution_count": 32,
   "id": "6e22b65b-54f9-4d03-a70a-ed9f6b914b23",
   "metadata": {},
   "outputs": [
    {
     "data": {
      "text/html": [
       "<div>\n",
       "<style scoped>\n",
       "    .dataframe tbody tr th:only-of-type {\n",
       "        vertical-align: middle;\n",
       "    }\n",
       "\n",
       "    .dataframe tbody tr th {\n",
       "        vertical-align: top;\n",
       "    }\n",
       "\n",
       "    .dataframe thead th {\n",
       "        text-align: right;\n",
       "    }\n",
       "</style>\n",
       "<table border=\"1\" class=\"dataframe\">\n",
       "  <thead>\n",
       "    <tr style=\"text-align: right;\">\n",
       "      <th></th>\n",
       "      <th>Natural_C</th>\n",
       "      <th>DBSCAN</th>\n",
       "      <th>OPTICS</th>\n",
       "      <th>HDBSCAN</th>\n",
       "      <th>Adap_DBSCAN</th>\n",
       "      <th>Level</th>\n",
       "      <th>Experiment</th>\n",
       "      <th>Clus_size</th>\n",
       "    </tr>\n",
       "  </thead>\n",
       "  <tbody>\n",
       "    <tr>\n",
       "      <th>0</th>\n",
       "      <td>0.944645</td>\n",
       "      <td>0.743386</td>\n",
       "      <td>0.641063</td>\n",
       "      <td>0.791325</td>\n",
       "      <td>0.928458</td>\n",
       "      <td>0</td>\n",
       "      <td>Exp_0_200</td>\n",
       "      <td>200</td>\n",
       "    </tr>\n",
       "    <tr>\n",
       "      <th>1</th>\n",
       "      <td>0.790965</td>\n",
       "      <td>0.523385</td>\n",
       "      <td>0.498377</td>\n",
       "      <td>0.730036</td>\n",
       "      <td>0.864490</td>\n",
       "      <td>1</td>\n",
       "      <td>Exp_0_200</td>\n",
       "      <td>200</td>\n",
       "    </tr>\n",
       "    <tr>\n",
       "      <th>2</th>\n",
       "      <td>0.834295</td>\n",
       "      <td>0.568020</td>\n",
       "      <td>0.477392</td>\n",
       "      <td>0.594340</td>\n",
       "      <td>0.790509</td>\n",
       "      <td>2</td>\n",
       "      <td>Exp_0_200</td>\n",
       "      <td>200</td>\n",
       "    </tr>\n",
       "    <tr>\n",
       "      <th>3</th>\n",
       "      <td>1.000000</td>\n",
       "      <td>1.000000</td>\n",
       "      <td>1.000000</td>\n",
       "      <td>1.000000</td>\n",
       "      <td>1.000000</td>\n",
       "      <td>3</td>\n",
       "      <td>Exp_0_200</td>\n",
       "      <td>200</td>\n",
       "    </tr>\n",
       "    <tr>\n",
       "      <th>4</th>\n",
       "      <td>0.970009</td>\n",
       "      <td>0.638889</td>\n",
       "      <td>0.597162</td>\n",
       "      <td>0.773004</td>\n",
       "      <td>0.976109</td>\n",
       "      <td>0</td>\n",
       "      <td>Exp_1_200</td>\n",
       "      <td>200</td>\n",
       "    </tr>\n",
       "  </tbody>\n",
       "</table>\n",
       "</div>"
      ],
      "text/plain": [
       "   Natural_C    DBSCAN    OPTICS   HDBSCAN  Adap_DBSCAN  Level Experiment  \\\n",
       "0   0.944645  0.743386  0.641063  0.791325     0.928458      0  Exp_0_200   \n",
       "1   0.790965  0.523385  0.498377  0.730036     0.864490      1  Exp_0_200   \n",
       "2   0.834295  0.568020  0.477392  0.594340     0.790509      2  Exp_0_200   \n",
       "3   1.000000  1.000000  1.000000  1.000000     1.000000      3  Exp_0_200   \n",
       "4   0.970009  0.638889  0.597162  0.773004     0.976109      0  Exp_1_200   \n",
       "\n",
       "   Clus_size  \n",
       "0        200  \n",
       "1        200  \n",
       "2        200  \n",
       "3        200  \n",
       "4        200  "
      ]
     },
     "execution_count": 32,
     "metadata": {},
     "output_type": "execute_result"
    }
   ],
   "source": [
    "lev_3['BA'].head()"
   ]
  },
  {
   "cell_type": "code",
   "execution_count": 33,
   "id": "85ab358e-edab-4d9d-96ca-b4349a94af00",
   "metadata": {},
   "outputs": [
    {
     "data": {
      "text/html": [
       "<div>\n",
       "<style scoped>\n",
       "    .dataframe tbody tr th:only-of-type {\n",
       "        vertical-align: middle;\n",
       "    }\n",
       "\n",
       "    .dataframe tbody tr th {\n",
       "        vertical-align: top;\n",
       "    }\n",
       "\n",
       "    .dataframe thead th {\n",
       "        text-align: right;\n",
       "    }\n",
       "</style>\n",
       "<table border=\"1\" class=\"dataframe\">\n",
       "  <thead>\n",
       "    <tr style=\"text-align: right;\">\n",
       "      <th></th>\n",
       "      <th>Natural_C</th>\n",
       "      <th>DBSCAN</th>\n",
       "      <th>OPTICS</th>\n",
       "      <th>HDBSCAN</th>\n",
       "      <th>Adap_DBSCAN</th>\n",
       "      <th>Experiment</th>\n",
       "      <th>Clus_size</th>\n",
       "    </tr>\n",
       "  </thead>\n",
       "  <tbody>\n",
       "    <tr>\n",
       "      <th>0</th>\n",
       "      <td>0.529477</td>\n",
       "      <td>0.292230</td>\n",
       "      <td>0.015531</td>\n",
       "      <td>0.239518</td>\n",
       "      <td>0.614585</td>\n",
       "      <td>Exp_0_200</td>\n",
       "      <td>200</td>\n",
       "    </tr>\n",
       "    <tr>\n",
       "      <th>1</th>\n",
       "      <td>0.524770</td>\n",
       "      <td>0.189437</td>\n",
       "      <td>0.008666</td>\n",
       "      <td>0.219760</td>\n",
       "      <td>0.442300</td>\n",
       "      <td>Exp_1_200</td>\n",
       "      <td>200</td>\n",
       "    </tr>\n",
       "    <tr>\n",
       "      <th>2</th>\n",
       "      <td>0.707487</td>\n",
       "      <td>0.609456</td>\n",
       "      <td>0.009454</td>\n",
       "      <td>0.248163</td>\n",
       "      <td>0.742269</td>\n",
       "      <td>Exp_2_200</td>\n",
       "      <td>200</td>\n",
       "    </tr>\n",
       "    <tr>\n",
       "      <th>3</th>\n",
       "      <td>0.604913</td>\n",
       "      <td>0.415650</td>\n",
       "      <td>0.021519</td>\n",
       "      <td>0.238214</td>\n",
       "      <td>0.742748</td>\n",
       "      <td>Exp_0_300</td>\n",
       "      <td>300</td>\n",
       "    </tr>\n",
       "    <tr>\n",
       "      <th>4</th>\n",
       "      <td>0.504496</td>\n",
       "      <td>0.165377</td>\n",
       "      <td>0.010555</td>\n",
       "      <td>0.190879</td>\n",
       "      <td>0.440244</td>\n",
       "      <td>Exp_1_300</td>\n",
       "      <td>300</td>\n",
       "    </tr>\n",
       "    <tr>\n",
       "      <th>5</th>\n",
       "      <td>0.366933</td>\n",
       "      <td>0.281280</td>\n",
       "      <td>0.006246</td>\n",
       "      <td>0.125787</td>\n",
       "      <td>0.342401</td>\n",
       "      <td>Exp_2_300</td>\n",
       "      <td>300</td>\n",
       "    </tr>\n",
       "    <tr>\n",
       "      <th>6</th>\n",
       "      <td>0.483132</td>\n",
       "      <td>0.053086</td>\n",
       "      <td>0.011794</td>\n",
       "      <td>0.229068</td>\n",
       "      <td>0.641856</td>\n",
       "      <td>Exp_0_400</td>\n",
       "      <td>400</td>\n",
       "    </tr>\n",
       "    <tr>\n",
       "      <th>7</th>\n",
       "      <td>0.387889</td>\n",
       "      <td>0.559350</td>\n",
       "      <td>0.003466</td>\n",
       "      <td>0.127993</td>\n",
       "      <td>0.565592</td>\n",
       "      <td>Exp_1_400</td>\n",
       "      <td>400</td>\n",
       "    </tr>\n",
       "    <tr>\n",
       "      <th>8</th>\n",
       "      <td>0.551598</td>\n",
       "      <td>0.244497</td>\n",
       "      <td>0.009548</td>\n",
       "      <td>0.207393</td>\n",
       "      <td>0.685185</td>\n",
       "      <td>Exp_2_400</td>\n",
       "      <td>400</td>\n",
       "    </tr>\n",
       "  </tbody>\n",
       "</table>\n",
       "</div>"
      ],
      "text/plain": [
       "   Natural_C    DBSCAN    OPTICS   HDBSCAN  Adap_DBSCAN Experiment  Clus_size\n",
       "0   0.529477  0.292230  0.015531  0.239518     0.614585  Exp_0_200        200\n",
       "1   0.524770  0.189437  0.008666  0.219760     0.442300  Exp_1_200        200\n",
       "2   0.707487  0.609456  0.009454  0.248163     0.742269  Exp_2_200        200\n",
       "3   0.604913  0.415650  0.021519  0.238214     0.742748  Exp_0_300        300\n",
       "4   0.504496  0.165377  0.010555  0.190879     0.440244  Exp_1_300        300\n",
       "5   0.366933  0.281280  0.006246  0.125787     0.342401  Exp_2_300        300\n",
       "6   0.483132  0.053086  0.011794  0.229068     0.641856  Exp_0_400        400\n",
       "7   0.387889  0.559350  0.003466  0.127993     0.565592  Exp_1_400        400\n",
       "8   0.551598  0.244497  0.009548  0.207393     0.685185  Exp_2_400        400"
      ]
     },
     "execution_count": 33,
     "metadata": {},
     "output_type": "execute_result"
    }
   ],
   "source": [
    "lev_3['NMI'].head()"
   ]
  },
  {
   "cell_type": "code",
   "execution_count": 35,
   "id": "1dd1968e-16fc-4bca-bd0a-795c664b2ec1",
   "metadata": {},
   "outputs": [
    {
     "data": {
      "text/html": [
       "<div>\n",
       "<style scoped>\n",
       "    .dataframe tbody tr th:only-of-type {\n",
       "        vertical-align: middle;\n",
       "    }\n",
       "\n",
       "    .dataframe tbody tr th {\n",
       "        vertical-align: top;\n",
       "    }\n",
       "\n",
       "    .dataframe thead th {\n",
       "        text-align: right;\n",
       "    }\n",
       "</style>\n",
       "<table border=\"1\" class=\"dataframe\">\n",
       "  <thead>\n",
       "    <tr style=\"text-align: right;\">\n",
       "      <th></th>\n",
       "      <th>Level</th>\n",
       "      <th>DBSCAN</th>\n",
       "      <th>HDBSCAN</th>\n",
       "      <th>Natural</th>\n",
       "      <th>OPTICS</th>\n",
       "      <th>Adap_DBSCAN</th>\n",
       "      <th>Experiment</th>\n",
       "      <th>Clus_size</th>\n",
       "    </tr>\n",
       "  </thead>\n",
       "  <tbody>\n",
       "    <tr>\n",
       "      <th>0</th>\n",
       "      <td>0</td>\n",
       "      <td>0.761810</td>\n",
       "      <td>0.761810</td>\n",
       "      <td>0.761810</td>\n",
       "      <td>0.761810</td>\n",
       "      <td>0.761810</td>\n",
       "      <td>Exp_0_200</td>\n",
       "      <td>200</td>\n",
       "    </tr>\n",
       "    <tr>\n",
       "      <th>1</th>\n",
       "      <td>1</td>\n",
       "      <td>0.048139</td>\n",
       "      <td>0.007241</td>\n",
       "      <td>0.028393</td>\n",
       "      <td>0.000007</td>\n",
       "      <td>0.666580</td>\n",
       "      <td>Exp_0_200</td>\n",
       "      <td>200</td>\n",
       "    </tr>\n",
       "    <tr>\n",
       "      <th>2</th>\n",
       "      <td>2</td>\n",
       "      <td>0.004272</td>\n",
       "      <td>0.000007</td>\n",
       "      <td>0.003431</td>\n",
       "      <td>0.000002</td>\n",
       "      <td>0.681906</td>\n",
       "      <td>Exp_0_200</td>\n",
       "      <td>200</td>\n",
       "    </tr>\n",
       "    <tr>\n",
       "      <th>0</th>\n",
       "      <td>0</td>\n",
       "      <td>0.830158</td>\n",
       "      <td>0.830158</td>\n",
       "      <td>0.830158</td>\n",
       "      <td>0.830158</td>\n",
       "      <td>0.830158</td>\n",
       "      <td>Exp_1_200</td>\n",
       "      <td>200</td>\n",
       "    </tr>\n",
       "    <tr>\n",
       "      <th>1</th>\n",
       "      <td>1</td>\n",
       "      <td>0.042503</td>\n",
       "      <td>0.000055</td>\n",
       "      <td>0.000125</td>\n",
       "      <td>0.000019</td>\n",
       "      <td>0.435127</td>\n",
       "      <td>Exp_1_200</td>\n",
       "      <td>200</td>\n",
       "    </tr>\n",
       "  </tbody>\n",
       "</table>\n",
       "</div>"
      ],
      "text/plain": [
       "   Level    DBSCAN   HDBSCAN   Natural    OPTICS  Adap_DBSCAN Experiment  \\\n",
       "0      0  0.761810  0.761810  0.761810  0.761810     0.761810  Exp_0_200   \n",
       "1      1  0.048139  0.007241  0.028393  0.000007     0.666580  Exp_0_200   \n",
       "2      2  0.004272  0.000007  0.003431  0.000002     0.681906  Exp_0_200   \n",
       "0      0  0.830158  0.830158  0.830158  0.830158     0.830158  Exp_1_200   \n",
       "1      1  0.042503  0.000055  0.000125  0.000019     0.435127  Exp_1_200   \n",
       "\n",
       "   Clus_size  \n",
       "0        200  \n",
       "1        200  \n",
       "2        200  \n",
       "0        200  \n",
       "1        200  "
      ]
     },
     "execution_count": 35,
     "metadata": {},
     "output_type": "execute_result"
    }
   ],
   "source": [
    "lev_3['SSM'].head()"
   ]
  },
  {
   "cell_type": "markdown",
   "id": "43036ebf-fdef-49a9-920c-868d8d87f657",
   "metadata": {},
   "source": [
    "### BAS\n",
    "To plot the results using the seaborn library a function to flat the dataframe resulting for the *Balanced Acuracy Score* (BAS) is made. "
   ]
  },
  {
   "cell_type": "code",
   "execution_count": 14,
   "id": "1a6e6c20-1414-4fcc-853d-40c8fe81d742",
   "metadata": {},
   "outputs": [],
   "source": [
    "####\n",
    "def flat_df(df_flat):\n",
    "    \"\"\"\n",
    "    Flat the resulting dataframe\n",
    "    \"\"\"\n",
    "    \n",
    "    get_cols = ['Natural_C', 'DBSCAN', 'OPTICS', 'HDBSCAN', 'Adap_DBSCAN']\n",
    "    new_app = []\n",
    "    for col in get_cols:\n",
    "        new = df_flat.loc[:, [col, 'Experiment', 'Level']]\n",
    "        if 'Natural_C' in col:\n",
    "            new['algorithm'] = 'Natural_C'\n",
    "        elif 'Adap_DBSCAN' in col:\n",
    "            new['algorithm'] = 'Adap_DBSCAN'\n",
    "        else:\n",
    "            new['algorithm'] = col[col.rfind('_',col.rfind('_'))+1 :]\n",
    "        new['BAS'] = new[col]\n",
    "        new.drop([col], axis=1, inplace = True)\n",
    "        new_app.append(new)\n",
    "\n",
    "    new_df = pd.concat(new_app)\n",
    "    return new_df"
   ]
  },
  {
   "cell_type": "code",
   "execution_count": 15,
   "id": "97ea7a64-20e0-48ff-92ce-fe2c7ba39d2c",
   "metadata": {},
   "outputs": [],
   "source": [
    "res_BA= flat_df(lev_3['BA'])"
   ]
  },
  {
   "cell_type": "markdown",
   "id": "59dcd999-9898-4df9-8fd1-7265fbdb31fd",
   "metadata": {},
   "source": [
    "Now the flat dataframe is pass to be ploted using the seaborn library. "
   ]
  },
  {
   "cell_type": "code",
   "execution_count": 16,
   "id": "55b5ce6d-e46f-45ef-abf8-b57ffb5a7dad",
   "metadata": {},
   "outputs": [
    {
     "data": {
      "image/png": "[encoded data removed]",
      "text/plain": [
       "<Figure size 1080x504 with 1 Axes>"
      ]
     },
     "metadata": {},
     "output_type": "display_data"
    }
   ],
   "source": [
    "plt.figure(figsize=[15,7])\n",
    "\n",
    "#####LA media\n",
    "\n",
    "ax = seaborn.boxenplot(x = 'Level', y = 'BAS',\n",
    "                       hue='algorithm',\n",
    "                       data = res_BA,\n",
    "                       showfliers = False,\n",
    "                      )\n",
    "ax= seaborn.stripplot(x = 'Level', y = 'BAS', hue='algorithm',\n",
    "                      data = res_BA[res_BA['Level'] != 3], dodge=True, size= 3,\n",
    "                      )\n",
    "l = ax.legend(title='Algorithm')\n",
    "handles, labels = ax.get_legend_handles_labels()\n",
    "l = plt.legend(handles[0:5], labels[0:5], bbox_to_anchor=(1, 1), loc=2, borderaxespad=0.1)\n",
    "#plt.savefig('./Images/BAS_3.pdf',dpi=600)"
   ]
  },
  {
   "cell_type": "markdown",
   "id": "6075b2af-1cbe-4d67-860f-74cb0aef5165",
   "metadata": {},
   "source": [
    "### NMI \n",
    "A function to flat the dataframe obtained from using the *Normalize Mutual Information* (NMI) in all the experiments. "
   ]
  },
  {
   "cell_type": "code",
   "execution_count": 17,
   "id": "6a21f0e6-73e4-449f-a1e0-9f233a2eaec2",
   "metadata": {},
   "outputs": [],
   "source": [
    "def flat_NMI(df_NMI):\n",
    "    \"\"\"Flat the NMI dataframe\"\"\"\n",
    "    get_cols = ['Natural_C', 'DBSCAN', 'OPTICS', 'HDBSCAN', 'Adap_DBSCAN']\n",
    "    all_point_se= []\n",
    "    for col in get_cols:\n",
    "        new=df_NMI.loc[:, [col, 'Experiment', 'Clus_size']]\n",
    "        # new=df_all_points[[col, 'Experiment']]\n",
    "        new['algorithm']=col\n",
    "        new['NMI'] = new[col]\n",
    "        new.drop([col],axis=1, inplace = True)\n",
    "        all_point_se.append(new)\n",
    "    all_point_se_df = pd.concat(all_point_se)\n",
    "    return all_point_se_df\n"
   ]
  },
  {
   "cell_type": "code",
   "execution_count": 18,
   "id": "d1156e7e-fd9a-4c74-8e30-4603ab4e77dc",
   "metadata": {},
   "outputs": [],
   "source": [
    "res_NMI= flat_NMI(lev_3['NMI'])"
   ]
  },
  {
   "cell_type": "code",
   "execution_count": 19,
   "id": "4cb15dc5-5ae0-4438-bfb5-f3b6a90cd8bd",
   "metadata": {},
   "outputs": [
    {
     "data": {
      "text/plain": [
       "<AxesSubplot:xlabel='algorithm', ylabel='NMI'>"
      ]
     },
     "execution_count": 19,
     "metadata": {},
     "output_type": "execute_result"
    },
    {
     "data": {
      "image/png": "[encoded data removed]",
      "text/plain": [
       "<Figure size 1080x504 with 1 Axes>"
      ]
     },
     "metadata": {},
     "output_type": "display_data"
    }
   ],
   "source": [
    "plt.figure(figsize=[15,7])\n",
    "seaborn.boxenplot(x = 'algorithm', y = 'NMI', data = res_NMI)\n",
    "#plt.savefig( './Images/all_levels_NMI_L3.pdf', dpi = 600)"
   ]
  },
  {
   "cell_type": "markdown",
   "id": "583cda0f-cfab-4846-8266-5450493b1465",
   "metadata": {},
   "source": [
    "### Similarity\n",
    "The function flats the dataframe for the resulting dataframe of the comparations using the *Similarity Shape Meshurment* (SSM) on all the experiments.  "
   ]
  },
  {
   "cell_type": "code",
   "execution_count": 20,
   "id": "d8460c20-7c99-4968-8b5c-9f199c5e9de2",
   "metadata": {},
   "outputs": [],
   "source": [
    "def flat_SSM(df_SSM):\n",
    "    \"\"\"Flat SSM dataframe\"\"\"\n",
    "    df_SSM.rename(columns= {'knee':'Adap_DBSCAN'},inplace=True)\n",
    "    get_cols_similarity= ['Natural','DBSCAN','OPTICS','HDBSCAN','Adap_DBSCAN']\n",
    "    new_app_simi= []\n",
    "    for col in get_cols_similarity:\n",
    "        new=df_SSM[[ 'Experiment', 'Level', col]]\n",
    "\n",
    "        new['algorithm']= col\n",
    "        new['SSM'] = new[col]\n",
    "\n",
    "        new.drop([col],axis=1, inplace = True)\n",
    "        new_app_simi.append(new)\n",
    "    new_df_similarity = pd.concat(new_app_simi)\n",
    "    return new_df_similarity"
   ]
  },
  {
   "cell_type": "code",
   "execution_count": 21,
   "id": "ec815c46-2202-4d14-9c7b-6a51a1b11917",
   "metadata": {},
   "outputs": [
    {
     "name": "stderr",
     "output_type": "stream",
     "text": [
      "/tmp/ipykernel_1699749/1751476183.py:9: SettingWithCopyWarning: \n",
      "A value is trying to be set on a copy of a slice from a DataFrame.\n",
      "Try using .loc[row_indexer,col_indexer] = value instead\n",
      "\n",
      "See the caveats in the documentation: https://pandas.pydata.org/pandas-docs/stable/user_guide/indexing.html#returning-a-view-versus-a-copy\n",
      "  new['algorithm']= col\n",
      "/tmp/ipykernel_1699749/1751476183.py:10: SettingWithCopyWarning: \n",
      "A value is trying to be set on a copy of a slice from a DataFrame.\n",
      "Try using .loc[row_indexer,col_indexer] = value instead\n",
      "\n",
      "See the caveats in the documentation: https://pandas.pydata.org/pandas-docs/stable/user_guide/indexing.html#returning-a-view-versus-a-copy\n",
      "  new['SSM'] = new[col]\n",
      "/home/miguel/anaconda3/envs/article_HGC/lib/python3.8/site-packages/pandas/core/frame.py:4906: SettingWithCopyWarning: \n",
      "A value is trying to be set on a copy of a slice from a DataFrame\n",
      "\n",
      "See the caveats in the documentation: https://pandas.pydata.org/pandas-docs/stable/user_guide/indexing.html#returning-a-view-versus-a-copy\n",
      "  return super().drop(\n"
     ]
    }
   ],
   "source": [
    "res_SSM= flat_SSM(lev_3['SSM'])"
   ]
  },
  {
   "cell_type": "code",
   "execution_count": 22,
   "id": "b7363a46-6715-4af1-8726-d6c873cb2bfc",
   "metadata": {},
   "outputs": [
    {
     "data": {
      "text/html": [
       "<div>\n",
       "<style scoped>\n",
       "    .dataframe tbody tr th:only-of-type {\n",
       "        vertical-align: middle;\n",
       "    }\n",
       "\n",
       "    .dataframe tbody tr th {\n",
       "        vertical-align: top;\n",
       "    }\n",
       "\n",
       "    .dataframe thead th {\n",
       "        text-align: right;\n",
       "    }\n",
       "</style>\n",
       "<table border=\"1\" class=\"dataframe\">\n",
       "  <thead>\n",
       "    <tr style=\"text-align: right;\">\n",
       "      <th></th>\n",
       "      <th>Experiment</th>\n",
       "      <th>Level</th>\n",
       "      <th>algorithm</th>\n",
       "      <th>SSM</th>\n",
       "    </tr>\n",
       "  </thead>\n",
       "  <tbody>\n",
       "    <tr>\n",
       "      <th>0</th>\n",
       "      <td>Exp_0_200</td>\n",
       "      <td>0</td>\n",
       "      <td>Natural</td>\n",
       "      <td>0.761810</td>\n",
       "    </tr>\n",
       "    <tr>\n",
       "      <th>1</th>\n",
       "      <td>Exp_0_200</td>\n",
       "      <td>1</td>\n",
       "      <td>Natural</td>\n",
       "      <td>0.028393</td>\n",
       "    </tr>\n",
       "    <tr>\n",
       "      <th>2</th>\n",
       "      <td>Exp_0_200</td>\n",
       "      <td>2</td>\n",
       "      <td>Natural</td>\n",
       "      <td>0.003431</td>\n",
       "    </tr>\n",
       "    <tr>\n",
       "      <th>0</th>\n",
       "      <td>Exp_1_200</td>\n",
       "      <td>0</td>\n",
       "      <td>Natural</td>\n",
       "      <td>0.830158</td>\n",
       "    </tr>\n",
       "    <tr>\n",
       "      <th>1</th>\n",
       "      <td>Exp_1_200</td>\n",
       "      <td>1</td>\n",
       "      <td>Natural</td>\n",
       "      <td>0.000125</td>\n",
       "    </tr>\n",
       "    <tr>\n",
       "      <th>...</th>\n",
       "      <td>...</td>\n",
       "      <td>...</td>\n",
       "      <td>...</td>\n",
       "      <td>...</td>\n",
       "    </tr>\n",
       "    <tr>\n",
       "      <th>1</th>\n",
       "      <td>Exp_1_400</td>\n",
       "      <td>1</td>\n",
       "      <td>Adap_DBSCAN</td>\n",
       "      <td>0.786601</td>\n",
       "    </tr>\n",
       "    <tr>\n",
       "      <th>2</th>\n",
       "      <td>Exp_1_400</td>\n",
       "      <td>2</td>\n",
       "      <td>Adap_DBSCAN</td>\n",
       "      <td>0.379612</td>\n",
       "    </tr>\n",
       "    <tr>\n",
       "      <th>0</th>\n",
       "      <td>Exp_2_400</td>\n",
       "      <td>0</td>\n",
       "      <td>Adap_DBSCAN</td>\n",
       "      <td>0.801846</td>\n",
       "    </tr>\n",
       "    <tr>\n",
       "      <th>1</th>\n",
       "      <td>Exp_2_400</td>\n",
       "      <td>1</td>\n",
       "      <td>Adap_DBSCAN</td>\n",
       "      <td>0.497326</td>\n",
       "    </tr>\n",
       "    <tr>\n",
       "      <th>2</th>\n",
       "      <td>Exp_2_400</td>\n",
       "      <td>2</td>\n",
       "      <td>Adap_DBSCAN</td>\n",
       "      <td>0.459126</td>\n",
       "    </tr>\n",
       "  </tbody>\n",
       "</table>\n",
       "<p>135 rows × 4 columns</p>\n",
       "</div>"
      ],
      "text/plain": [
       "   Experiment  Level    algorithm       SSM\n",
       "0   Exp_0_200      0      Natural  0.761810\n",
       "1   Exp_0_200      1      Natural  0.028393\n",
       "2   Exp_0_200      2      Natural  0.003431\n",
       "0   Exp_1_200      0      Natural  0.830158\n",
       "1   Exp_1_200      1      Natural  0.000125\n",
       "..        ...    ...          ...       ...\n",
       "1   Exp_1_400      1  Adap_DBSCAN  0.786601\n",
       "2   Exp_1_400      2  Adap_DBSCAN  0.379612\n",
       "0   Exp_2_400      0  Adap_DBSCAN  0.801846\n",
       "1   Exp_2_400      1  Adap_DBSCAN  0.497326\n",
       "2   Exp_2_400      2  Adap_DBSCAN  0.459126\n",
       "\n",
       "[135 rows x 4 columns]"
      ]
     },
     "execution_count": 22,
     "metadata": {},
     "output_type": "execute_result"
    }
   ],
   "source": [
    "res_SSM"
   ]
  },
  {
   "cell_type": "markdown",
   "id": "428c1c13-b62a-49d1-abcf-a9d1c236ae81",
   "metadata": {},
   "source": [
    "Now the plot can be made using seaborn an be agregate by level"
   ]
  },
  {
   "cell_type": "code",
   "execution_count": 23,
   "id": "28dae3dc-5136-4ebc-9042-f7e62d2f37c3",
   "metadata": {},
   "outputs": [
    {
     "data": {
      "image/png": "[encoded data removed]",
      "text/plain": [
       "<Figure size 1080x504 with 1 Axes>"
      ]
     },
     "metadata": {},
     "output_type": "display_data"
    }
   ],
   "source": [
    "plt.figure(figsize=[15,7])\n",
    "ax= seaborn.boxenplot(x = 'Level', y = 'SSM',\n",
    "                      hue='algorithm', data =res_SSM[res_SSM['Level']!=0], \n",
    "                      showfliers = False, \n",
    "                      \n",
    "\n",
    "                     )\n",
    "ax= seaborn.stripplot(x = 'Level', y = 'SSM', hue='algorithm',\n",
    "                  data = res_SSM[res_SSM['Level']!=0], dodge=True, size= 3,\n",
    "                  \n",
    "                  )\n",
    "handles, labels = ax.get_legend_handles_labels()\n",
    "ax.legend(title='Algorithm', bbox_to_anchor= (.85, 1) )\n",
    "l = plt.legend(handles[0:5], labels[0:5], bbox_to_anchor=(.85, 1), loc=2, borderaxespad=0.)\n"
   ]
  },
  {
   "cell_type": "markdown",
   "id": "68765f26-f055-498a-a749-bd9d2cfb8bb2",
   "metadata": {},
   "source": [
    "### Get plot for Level 4\n",
    "\n",
    "We now are able to get the data and create the plots for all the experiments with $4$ levels.  \n"
   ]
  },
  {
   "cell_type": "code",
   "execution_count": 24,
   "id": "801c30fe-d4d0-4089-af46-8e8bb9774852",
   "metadata": {
    "tags": []
   },
   "outputs": [
    {
     "name": "stderr",
     "output_type": "stream",
     "text": [
      "/tmp/ipykernel_1699749/1751476183.py:9: SettingWithCopyWarning: \n",
      "A value is trying to be set on a copy of a slice from a DataFrame.\n",
      "Try using .loc[row_indexer,col_indexer] = value instead\n",
      "\n",
      "See the caveats in the documentation: https://pandas.pydata.org/pandas-docs/stable/user_guide/indexing.html#returning-a-view-versus-a-copy\n",
      "  new['algorithm']= col\n",
      "/tmp/ipykernel_1699749/1751476183.py:10: SettingWithCopyWarning: \n",
      "A value is trying to be set on a copy of a slice from a DataFrame.\n",
      "Try using .loc[row_indexer,col_indexer] = value instead\n",
      "\n",
      "See the caveats in the documentation: https://pandas.pydata.org/pandas-docs/stable/user_guide/indexing.html#returning-a-view-versus-a-copy\n",
      "  new['SSM'] = new[col]\n",
      "/home/miguel/anaconda3/envs/article_HGC/lib/python3.8/site-packages/pandas/core/frame.py:4906: SettingWithCopyWarning: \n",
      "A value is trying to be set on a copy of a slice from a DataFrame\n",
      "\n",
      "See the caveats in the documentation: https://pandas.pydata.org/pandas-docs/stable/user_guide/indexing.html#returning-a-view-versus-a-copy\n",
      "  return super().drop(\n"
     ]
    }
   ],
   "source": [
    "lev_4     = get_results_level(path_= '../output/Data_experiments/Level_4/', points_li=[200,300,400])\n",
    "res_4_BA  = flat_df(lev_4['BA'])\n",
    "res_4_NMI = flat_NMI(lev_4['NMI'])\n",
    "res_4_SSM = flat_SSM(lev_4['SSM'])"
   ]
  },
  {
   "cell_type": "code",
   "execution_count": 25,
   "id": "4ebc77fa-3e50-4861-8435-ea7f15168e8b",
   "metadata": {},
   "outputs": [
    {
     "data": {
      "image/png": "[encoded data removed]",
      "text/plain": [
       "<Figure size 1080x504 with 1 Axes>"
      ]
     },
     "metadata": {},
     "output_type": "display_data"
    }
   ],
   "source": [
    "plt.figure(figsize=[15,7])\n",
    "ax = seaborn.boxenplot(x = 'Level', y = 'BAS',\n",
    "                       hue='algorithm',\n",
    "                       data = res_4_BA,\n",
    "                       showfliers = False,\n",
    "                      )\n",
    "ax= seaborn.stripplot(x = 'Level', y = 'BAS', hue='algorithm',\n",
    "                      data = res_4_BA[res_4_BA['Level'] != 4], dodge=True, size= 3,\n",
    "                      )\n",
    "l = ax.legend(title='Algorithm')\n",
    "handles, labels = ax.get_legend_handles_labels()\n",
    "l = plt.legend(handles[0:5], labels[0:5], bbox_to_anchor=(1, 1), loc=2, borderaxespad=0.1)"
   ]
  },
  {
   "cell_type": "code",
   "execution_count": 26,
   "id": "8f8499c9-2983-4375-a4aa-87cb8ad991fb",
   "metadata": {},
   "outputs": [
    {
     "data": {
      "text/plain": [
       "<AxesSubplot:xlabel='algorithm', ylabel='NMI'>"
      ]
     },
     "execution_count": 26,
     "metadata": {},
     "output_type": "execute_result"
    },
    {
     "data": {
      "image/png": "[encoded data removed]",
      "text/plain": [
       "<Figure size 1080x504 with 1 Axes>"
      ]
     },
     "metadata": {},
     "output_type": "display_data"
    }
   ],
   "source": [
    "plt.figure(figsize=[15,7])\n",
    "seaborn.boxenplot(x = 'algorithm', y = 'NMI', data = res_4_NMI)"
   ]
  },
  {
   "cell_type": "code",
   "execution_count": 27,
   "id": "71554b3a-b597-424b-af0e-05552e565c37",
   "metadata": {},
   "outputs": [
    {
     "data": {
      "image/png": "[encoded data removed]",
      "text/plain": [
       "<Figure size 1080x504 with 1 Axes>"
      ]
     },
     "metadata": {},
     "output_type": "display_data"
    }
   ],
   "source": [
    "plt.figure(figsize=[15,7])\n",
    "ax= seaborn.boxenplot(x = 'Level', y = 'SSM',\n",
    "                      hue='algorithm', data =res_4_SSM[res_4_SSM['Level']!=0], \n",
    "                      showfliers = False, \n",
    "                      \n",
    "\n",
    "                     )\n",
    "ax= seaborn.stripplot(x = 'Level', y = 'SSM', hue='algorithm',\n",
    "                  data = res_4_SSM[res_4_SSM['Level']!=0], dodge=True, size= 3,\n",
    "                  \n",
    "                  )\n",
    "handles, labels = ax.get_legend_handles_labels()\n",
    "ax.legend(title='Algorithm', bbox_to_anchor= (.85, 1) )\n",
    "l = plt.legend(handles[0:5], labels[0:5], bbox_to_anchor=(.85, 1), loc=2, borderaxespad=0.)"
   ]
  },
  {
   "cell_type": "markdown",
   "id": "5920d550-eaac-4ff5-b20b-306500b2b07c",
   "metadata": {},
   "source": [
    "###  Level 5\n",
    "\n",
    "Get data and plots for all the experiment with $5$ levels  "
   ]
  },
  {
   "cell_type": "code",
   "execution_count": 28,
   "id": "8f0c50cd-ad13-4e0f-b8fa-bd0bea2923ef",
   "metadata": {},
   "outputs": [
    {
     "name": "stderr",
     "output_type": "stream",
     "text": [
      "/tmp/ipykernel_1699749/1751476183.py:9: SettingWithCopyWarning: \n",
      "A value is trying to be set on a copy of a slice from a DataFrame.\n",
      "Try using .loc[row_indexer,col_indexer] = value instead\n",
      "\n",
      "See the caveats in the documentation: https://pandas.pydata.org/pandas-docs/stable/user_guide/indexing.html#returning-a-view-versus-a-copy\n",
      "  new['algorithm']= col\n",
      "/tmp/ipykernel_1699749/1751476183.py:10: SettingWithCopyWarning: \n",
      "A value is trying to be set on a copy of a slice from a DataFrame.\n",
      "Try using .loc[row_indexer,col_indexer] = value instead\n",
      "\n",
      "See the caveats in the documentation: https://pandas.pydata.org/pandas-docs/stable/user_guide/indexing.html#returning-a-view-versus-a-copy\n",
      "  new['SSM'] = new[col]\n",
      "/home/miguel/anaconda3/envs/article_HGC/lib/python3.8/site-packages/pandas/core/frame.py:4906: SettingWithCopyWarning: \n",
      "A value is trying to be set on a copy of a slice from a DataFrame\n",
      "\n",
      "See the caveats in the documentation: https://pandas.pydata.org/pandas-docs/stable/user_guide/indexing.html#returning-a-view-versus-a-copy\n",
      "  return super().drop(\n"
     ]
    }
   ],
   "source": [
    "lev_5= get_results_level(path_= '../output/Data_experiments/Level_5/', points_li=[200,300,400])\n",
    "res_5_BA= flat_df(lev_5['BA'])\n",
    "res_5_NMI= flat_NMI(lev_5['NMI'])\n",
    "res_5_SSM= flat_SSM(lev_5['SSM'])"
   ]
  },
  {
   "cell_type": "code",
   "execution_count": 29,
   "id": "7861bbb0-5caf-4bff-89d4-fc127de56e45",
   "metadata": {},
   "outputs": [
    {
     "data": {
      "image/png": "[encoded data removed]",
      "text/plain": [
       "<Figure size 1080x504 with 1 Axes>"
      ]
     },
     "metadata": {},
     "output_type": "display_data"
    }
   ],
   "source": [
    "plt.figure(figsize=[15,7])\n",
    "ax = seaborn.boxenplot(x = 'Level', y = 'BAS',\n",
    "                       hue='algorithm',\n",
    "                       data = res_5_BA,\n",
    "                       showfliers = False,\n",
    "                      )\n",
    "ax= seaborn.stripplot(x = 'Level', y = 'BAS', hue='algorithm',\n",
    "                      data = res_5_BA[res_5_BA['Level'] != 5], dodge=True, size= 3,\n",
    "                      )\n",
    "l = ax.legend(title='Algorithm')\n",
    "handles, labels = ax.get_legend_handles_labels()\n",
    "l = plt.legend(handles[0:5], labels[0:5], bbox_to_anchor=(1, 1), loc=2, borderaxespad=0.1)"
   ]
  },
  {
   "cell_type": "code",
   "execution_count": 30,
   "id": "39e8a331-7bd5-40d2-afc6-b7c930e15bd0",
   "metadata": {},
   "outputs": [
    {
     "data": {
      "text/plain": [
       "<AxesSubplot:xlabel='algorithm', ylabel='NMI'>"
      ]
     },
     "execution_count": 30,
     "metadata": {},
     "output_type": "execute_result"
    },
    {
     "data": {
      "image/png": "[encoded data removed]",
      "text/plain": [
       "<Figure size 1080x504 with 1 Axes>"
      ]
     },
     "metadata": {},
     "output_type": "display_data"
    }
   ],
   "source": [
    "plt.figure(figsize=[15,7])\n",
    "seaborn.boxenplot(x = 'algorithm', y = 'NMI', data = res_5_NMI)"
   ]
  },
  {
   "cell_type": "code",
   "execution_count": 31,
   "id": "9e1005bf-ae1c-42f6-a7fd-f2bd7783a86c",
   "metadata": {},
   "outputs": [
    {
     "data": {
      "image/png": "[encoded data removed]",
      "text/plain": [
       "<Figure size 1080x504 with 1 Axes>"
      ]
     },
     "metadata": {},
     "output_type": "display_data"
    }
   ],
   "source": [
    "plt.figure(figsize=[15,7])\n",
    "ax= seaborn.boxenplot(x = 'Level', y = 'SSM',\n",
    "                      hue='algorithm', data =res_5_SSM[res_5_SSM['Level']!=0], \n",
    "                      showfliers = False, \n",
    "                      \n",
    "\n",
    "                     )\n",
    "ax= seaborn.stripplot(x = 'Level', y = 'SSM', hue='algorithm',\n",
    "                  data = res_5_SSM[res_5_SSM['Level']!=0], dodge=True, size= 3,\n",
    "                  \n",
    "                  )\n",
    "handles, labels = ax.get_legend_handles_labels()\n",
    "ax.legend(title='Algorithm', bbox_to_anchor= (.85, 1) )\n",
    "l = plt.legend(handles[0:5], labels[0:5], bbox_to_anchor=(.85, 1), loc=2, borderaxespad=0.)"
   ]
  },
  {
   "cell_type": "code",
   "execution_count": null,
   "id": "6eccdde2-b9dc-468d-a5a1-9338ace1f400",
   "metadata": {},
   "outputs": [],
   "source": []
  },
  {
   "cell_type": "code",
   "execution_count": null,
   "id": "9eb04095-c302-4719-92e6-a85aee49a3d0",
   "metadata": {},
   "outputs": [],
   "source": []
  }
 ],
 "metadata": {
  "kernelspec": {
   "display_name": "Python 3 (ipykernel)",
   "language": "python",
   "name": "python3"
  },
  "language_info": {
   "codemirror_mode": {
    "name": "ipython",
    "version": 3
   },
   "file_extension": ".py",
   "mimetype": "text/x-python",
   "name": "python",
   "nbconvert_exporter": "python",
   "pygments_lexer": "ipython3",
   "version": "3.7.12"
  }
 },
 "nbformat": 4,
 "nbformat_minor": 5
}
