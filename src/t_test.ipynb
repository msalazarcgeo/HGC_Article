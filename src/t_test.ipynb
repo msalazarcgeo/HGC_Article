{
 "cells": [
  {
   "cell_type": "code",
   "execution_count": 1,
   "metadata": {
    "id": "rgU4IjQumt6n"
   },
   "outputs": [],
   "source": [
    "import pandas as pd\n",
    "from scipy.stats import ttest_ind\n",
    "import seaborn as sns\n",
    "import matplotlib.pyplot as plt\n",
    "from itertools import product, permutations, combinations\n",
    "from zipfile import ZipFile\n",
    "import requests\n",
    "import glob\n",
    "plt.style.use('ggplot')"
   ]
  },
  {
   "cell_type": "markdown",
   "metadata": {
    "id": "7GdcQMvDk30b"
   },
   "source": [
    "Download data"
   ]
  },
  {
   "cell_type": "code",
   "execution_count": null,
   "metadata": {
    "colab": {
     "base_uri": "https://localhost:8080/"
    },
    "id": "_F38XsPgNtum",
    "outputId": "a6bb0723-5a56-495c-a4a9-798826fb41a2"
   },
   "outputs": [
    {
     "data": {
      "text/plain": [
       "815491"
      ]
     },
     "execution_count": 2,
     "metadata": {},
     "output_type": "execute_result"
    }
   ],
   "source": [
    "# url = \"https://www.dropbox.com/sh/nuh41xq2rjhk57j/AAATuuSViRhoD44t-bkIT0oFa?dl=1\"\n",
    "# r = requests.get(url, allow_redirects=True)\n",
    "# open('/content/evaluation_data.zip', 'wb').write(r.content)"
   ]
  },
  {
   "cell_type": "markdown",
   "metadata": {
    "id": "XwhgtfInk6Ly"
   },
   "source": [
    "Extract files"
   ]
  },
  {
   "cell_type": "code",
   "execution_count": null,
   "metadata": {
    "colab": {
     "base_uri": "https://localhost:8080/"
    },
    "id": "REiSK9YAkfhh",
    "outputId": "816c7ff4-baca-4390-88ca-be0d77a6d0d6"
   },
   "outputs": [
    {
     "name": "stdout",
     "output_type": "stream",
     "text": [
      "File Name                                             Modified             Size\n",
      "/                                              2022-03-14 16:18:56            0\n",
      "all_levels_BAS_L3.csv                          2022-02-18 01:33:38        84509\n",
      "all_levels_BAS_L4.csv                          2022-02-18 01:30:00       108014\n",
      "all_levels_BAS_L5.csv                          2022-02-18 01:24:20       203433\n",
      "all_levels_NMI_L3.csv                          2022-02-18 01:33:56        24190\n",
      "all_levels_NMI_L4.csv                          2022-02-18 01:29:52        24207\n",
      "all_levels_NMI_L5.csv                          2022-02-18 01:21:12        37652\n",
      "all_levels_SSM_L3.csv                          2022-02-18 01:34:16        67128\n",
      "all_levels_SSM_L4.csv                          2022-02-18 01:31:48        90139\n",
      "all_levels_SSM_L5.csv                          2022-02-18 01:24:02       174913\n",
      "Extracting all the files now...\n",
      "Done!\n"
     ]
    }
   ],
   "source": [
    "# with ZipFile('/content/evaluation_data.zip', 'r') as z:\n",
    "#     # printing all the contents of the zip file\n",
    "#     z.printdir()\n",
    "#     # extracting all the files\n",
    "#     print('Extracting all the files now...')\n",
    "#     z.extractall()\n",
    "#     print('Done!')"
   ]
  },
  {
   "cell_type": "markdown",
   "metadata": {
    "id": "WHKUMVrQo6fd"
   },
   "source": [
    "Get all NMI evaluation data into a single dataframe and melt it"
   ]
  },
  {
   "cell_type": "code",
   "execution_count": 2,
   "metadata": {
    "colab": {
     "base_uri": "https://localhost:8080/",
     "height": 424
    },
    "id": "HsOAabrhm3en",
    "outputId": "f9d7d7fd-824b-4adc-fe22-a9ec0ca14c4b"
   },
   "outputs": [
    {
     "data": {
      "text/html": [
       "<div>\n",
       "<style scoped>\n",
       "    .dataframe tbody tr th:only-of-type {\n",
       "        vertical-align: middle;\n",
       "    }\n",
       "\n",
       "    .dataframe tbody tr th {\n",
       "        vertical-align: top;\n",
       "    }\n",
       "\n",
       "    .dataframe thead th {\n",
       "        text-align: right;\n",
       "    }\n",
       "</style>\n",
       "<table border=\"1\" class=\"dataframe\">\n",
       "  <thead>\n",
       "    <tr style=\"text-align: right;\">\n",
       "      <th></th>\n",
       "      <th>Algorithm</th>\n",
       "      <th>Number of levels</th>\n",
       "      <th>variable</th>\n",
       "      <th>NMI</th>\n",
       "    </tr>\n",
       "  </thead>\n",
       "  <tbody>\n",
       "    <tr>\n",
       "      <th>0</th>\n",
       "      <td>Natural_C</td>\n",
       "      <td>5</td>\n",
       "      <td>NMI</td>\n",
       "      <td>0.438877</td>\n",
       "    </tr>\n",
       "    <tr>\n",
       "      <th>1</th>\n",
       "      <td>Natural_C</td>\n",
       "      <td>5</td>\n",
       "      <td>NMI</td>\n",
       "      <td>0.556069</td>\n",
       "    </tr>\n",
       "    <tr>\n",
       "      <th>2</th>\n",
       "      <td>Natural_C</td>\n",
       "      <td>5</td>\n",
       "      <td>NMI</td>\n",
       "      <td>0.446900</td>\n",
       "    </tr>\n",
       "    <tr>\n",
       "      <th>3</th>\n",
       "      <td>Natural_C</td>\n",
       "      <td>5</td>\n",
       "      <td>NMI</td>\n",
       "      <td>0.585844</td>\n",
       "    </tr>\n",
       "    <tr>\n",
       "      <th>4</th>\n",
       "      <td>Natural_C</td>\n",
       "      <td>5</td>\n",
       "      <td>NMI</td>\n",
       "      <td>0.472614</td>\n",
       "    </tr>\n",
       "    <tr>\n",
       "      <th>...</th>\n",
       "      <td>...</td>\n",
       "      <td>...</td>\n",
       "      <td>...</td>\n",
       "      <td>...</td>\n",
       "    </tr>\n",
       "    <tr>\n",
       "      <th>1825</th>\n",
       "      <td>Adap_DBSCAN</td>\n",
       "      <td>3</td>\n",
       "      <td>NMI</td>\n",
       "      <td>0.665785</td>\n",
       "    </tr>\n",
       "    <tr>\n",
       "      <th>1826</th>\n",
       "      <td>Adap_DBSCAN</td>\n",
       "      <td>3</td>\n",
       "      <td>NMI</td>\n",
       "      <td>0.564085</td>\n",
       "    </tr>\n",
       "    <tr>\n",
       "      <th>1827</th>\n",
       "      <td>Adap_DBSCAN</td>\n",
       "      <td>3</td>\n",
       "      <td>NMI</td>\n",
       "      <td>0.639567</td>\n",
       "    </tr>\n",
       "    <tr>\n",
       "      <th>1828</th>\n",
       "      <td>Adap_DBSCAN</td>\n",
       "      <td>3</td>\n",
       "      <td>NMI</td>\n",
       "      <td>0.400680</td>\n",
       "    </tr>\n",
       "    <tr>\n",
       "      <th>1829</th>\n",
       "      <td>Adap_DBSCAN</td>\n",
       "      <td>3</td>\n",
       "      <td>NMI</td>\n",
       "      <td>0.466118</td>\n",
       "    </tr>\n",
       "  </tbody>\n",
       "</table>\n",
       "<p>1830 rows × 4 columns</p>\n",
       "</div>"
      ],
      "text/plain": [
       "        Algorithm Number of levels variable       NMI\n",
       "0       Natural_C                5      NMI  0.438877\n",
       "1       Natural_C                5      NMI  0.556069\n",
       "2       Natural_C                5      NMI  0.446900\n",
       "3       Natural_C                5      NMI  0.585844\n",
       "4       Natural_C                5      NMI  0.472614\n",
       "...           ...              ...      ...       ...\n",
       "1825  Adap_DBSCAN                3      NMI  0.665785\n",
       "1826  Adap_DBSCAN                3      NMI  0.564085\n",
       "1827  Adap_DBSCAN                3      NMI  0.639567\n",
       "1828  Adap_DBSCAN                3      NMI  0.400680\n",
       "1829  Adap_DBSCAN                3      NMI  0.466118\n",
       "\n",
       "[1830 rows x 4 columns]"
      ]
     },
     "execution_count": 2,
     "metadata": {},
     "output_type": "execute_result"
    }
   ],
   "source": [
    "nmi_files = glob.glob(\"../data/Data_frames/*NMI*\")\n",
    "nmi_levels = [s.split(\"_\")[-1].split(\".\")[0][-1] for s in nmi_files]\n",
    "nmi_df = []\n",
    "for f,l in zip(nmi_files,nmi_levels):\n",
    "  df = pd.read_csv(f)\n",
    "  df['Number of levels'] = l\n",
    "  nmi_df.append(df)\n",
    "nmi_df = (pd.concat(nmi_df)\n",
    "          .melt(id_vars=['algorithm', 'Number of levels'], value_vars=['NMI'])\n",
    "          .rename({'algorithm': 'Algorithm',\n",
    "                   'value': 'NMI'}, axis=1))\n",
    "nmi_df"
   ]
  },
  {
   "cell_type": "markdown",
   "metadata": {
    "id": "9IP29wYbpEpy"
   },
   "source": [
    "Barplots for all number of levels\n"
   ]
  },
  {
   "cell_type": "code",
   "execution_count": 3,
   "metadata": {
    "colab": {
     "base_uri": "https://localhost:8080/",
     "height": 356
    },
    "id": "ZgXsGtgVnHdh",
    "outputId": "272d86d3-bcd3-4bea-9d6d-2b780ebe4571"
   },
   "outputs": [
    {
     "data": {
      "text/plain": [
       "<AxesSubplot:xlabel='Algorithm', ylabel='NMI'>"
      ]
     },
     "execution_count": 3,
     "metadata": {},
     "output_type": "execute_result"
    },
    {
     "data": {
      "image/png": "[encoded data removed]",
      "text/plain": [
       "<Figure size 720x360 with 1 Axes>"
      ]
     },
     "metadata": {},
     "output_type": "display_data"
    }
   ],
   "source": [
    "plt.figure(figsize=(10,5))\n",
    "sns.barplot(x=\"Algorithm\", y=\"NMI\", hue=\"Number of levels\", data=nmi_df)"
   ]
  },
  {
   "cell_type": "code",
   "execution_count": 49,
   "metadata": {
    "colab": {
     "base_uri": "https://localhost:8080/",
     "height": 337
    },
    "id": "7mvGMC3RvUBn",
    "outputId": "5faf0d3c-2b13-40ae-d794-0e91acafd6bf"
   },
   "outputs": [
    {
     "data": {
      "image/png": "[encoded data removed]",
      "text/plain": [
       "<Figure size 1080x576 with 1 Axes>"
      ]
     },
     "metadata": {},
     "output_type": "display_data"
    }
   ],
   "source": [
    "fig, axs = plt.subplots( figsize=(15, 8))\n",
    "\n",
    "# plt.figure(figsize=(16,5))\n",
    "sns.barplot(x=\"Number of levels\", y=\"NMI\", hue=\"Algorithm\", data=nmi_df, order=[\"3\", \"4\", \"5\"], ax= axs)\n",
    "axs.get_legend().remove()\n",
    "axs.tick_params(axis='both', labelsize=18)\n",
    "axs.set_ylabel('Normalized Mutual Information', fontsize = 22)\n",
    "axs.set_xlabel('Number of Levels', fontsize = 22)\n",
    "fig.legend(loc='upper center',\n",
    "           ncol=5,\n",
    "           fontsize=14,\n",
    "           # bbox_to_anchor=(5, .5),\n",
    "          )\n",
    "plt.savefig(\"../output/NMI.pdf\", dpi=600,  bbox_inches='tight')"
   ]
  },
  {
   "cell_type": "markdown",
   "metadata": {
    "id": "X-3cNlBWpMOX"
   },
   "source": [
    "## Pairwise Welch test"
   ]
  },
  {
   "cell_type": "code",
   "execution_count": 27,
   "metadata": {
    "colab": {
     "base_uri": "https://localhost:8080/",
     "height": 426
    },
    "id": "Zzs3ik0MnqyV",
    "outputId": "68167a15-45f2-4bd5-c46b-6db69f1ac3a8"
   },
   "outputs": [
    {
     "data": {
      "text/html": [
       "<div>\n",
       "<style scoped>\n",
       "    .dataframe tbody tr th:only-of-type {\n",
       "        vertical-align: middle;\n",
       "    }\n",
       "\n",
       "    .dataframe tbody tr th {\n",
       "        vertical-align: top;\n",
       "    }\n",
       "\n",
       "    .dataframe thead tr th {\n",
       "        text-align: left;\n",
       "    }\n",
       "\n",
       "    .dataframe thead tr:last-of-type th {\n",
       "        text-align: right;\n",
       "    }\n",
       "</style>\n",
       "<table border=\"1\" class=\"dataframe\">\n",
       "  <thead>\n",
       "    <tr>\n",
       "      <th>Number of Levels</th>\n",
       "      <th colspan=\"2\" halign=\"left\">3</th>\n",
       "      <th colspan=\"2\" halign=\"left\">4</th>\n",
       "      <th colspan=\"2\" halign=\"left\">5</th>\n",
       "    </tr>\n",
       "    <tr>\n",
       "      <th>Statistics</th>\n",
       "      <th>Welch test</th>\n",
       "      <th>p-value</th>\n",
       "      <th>Welch test</th>\n",
       "      <th>p-value</th>\n",
       "      <th>Welch test</th>\n",
       "      <th>p-value</th>\n",
       "    </tr>\n",
       "    <tr>\n",
       "      <th>Comparisson</th>\n",
       "      <th></th>\n",
       "      <th></th>\n",
       "      <th></th>\n",
       "      <th></th>\n",
       "      <th></th>\n",
       "      <th></th>\n",
       "    </tr>\n",
       "  </thead>\n",
       "  <tbody>\n",
       "    <tr>\n",
       "      <th>Natural_C Vs DBSCAN</th>\n",
       "      <td>-0.46</td>\n",
       "      <td>0.64</td>\n",
       "      <td>2.89</td>\n",
       "      <td>0.0</td>\n",
       "      <td>9.37</td>\n",
       "      <td>0.00</td>\n",
       "    </tr>\n",
       "    <tr>\n",
       "      <th>Natural_C Vs OPTICS</th>\n",
       "      <td>108.72</td>\n",
       "      <td>0.00</td>\n",
       "      <td>79.07</td>\n",
       "      <td>0.0</td>\n",
       "      <td>68.45</td>\n",
       "      <td>0.00</td>\n",
       "    </tr>\n",
       "    <tr>\n",
       "      <th>Natural_C Vs HDBSCAN</th>\n",
       "      <td>60.97</td>\n",
       "      <td>0.00</td>\n",
       "      <td>44.71</td>\n",
       "      <td>0.0</td>\n",
       "      <td>36.48</td>\n",
       "      <td>0.00</td>\n",
       "    </tr>\n",
       "    <tr>\n",
       "      <th>Natural_C Vs Adap_DBSCAN</th>\n",
       "      <td>-9.08</td>\n",
       "      <td>0.00</td>\n",
       "      <td>-3.54</td>\n",
       "      <td>0.0</td>\n",
       "      <td>0.63</td>\n",
       "      <td>0.53</td>\n",
       "    </tr>\n",
       "    <tr>\n",
       "      <th>DBSCAN Vs OPTICS</th>\n",
       "      <td>54.59</td>\n",
       "      <td>0.00</td>\n",
       "      <td>30.91</td>\n",
       "      <td>0.0</td>\n",
       "      <td>27.14</td>\n",
       "      <td>0.00</td>\n",
       "    </tr>\n",
       "    <tr>\n",
       "      <th>DBSCAN Vs HDBSCAN</th>\n",
       "      <td>32.65</td>\n",
       "      <td>0.00</td>\n",
       "      <td>18.06</td>\n",
       "      <td>0.0</td>\n",
       "      <td>12.12</td>\n",
       "      <td>0.00</td>\n",
       "    </tr>\n",
       "    <tr>\n",
       "      <th>DBSCAN Vs Adap_DBSCAN</th>\n",
       "      <td>-5.77</td>\n",
       "      <td>0.00</td>\n",
       "      <td>-4.92</td>\n",
       "      <td>0.0</td>\n",
       "      <td>-8.08</td>\n",
       "      <td>0.00</td>\n",
       "    </tr>\n",
       "    <tr>\n",
       "      <th>OPTICS Vs HDBSCAN</th>\n",
       "      <td>-102.13</td>\n",
       "      <td>0.00</td>\n",
       "      <td>-55.77</td>\n",
       "      <td>0.0</td>\n",
       "      <td>-43.45</td>\n",
       "      <td>0.00</td>\n",
       "    </tr>\n",
       "    <tr>\n",
       "      <th>OPTICS Vs Adap_DBSCAN</th>\n",
       "      <td>-95.49</td>\n",
       "      <td>0.00</td>\n",
       "      <td>-67.92</td>\n",
       "      <td>0.0</td>\n",
       "      <td>-49.31</td>\n",
       "      <td>0.00</td>\n",
       "    </tr>\n",
       "    <tr>\n",
       "      <th>HDBSCAN Vs Adap_DBSCAN</th>\n",
       "      <td>-59.50</td>\n",
       "      <td>0.00</td>\n",
       "      <td>-41.45</td>\n",
       "      <td>0.0</td>\n",
       "      <td>-27.76</td>\n",
       "      <td>0.00</td>\n",
       "    </tr>\n",
       "  </tbody>\n",
       "</table>\n",
       "</div>"
      ],
      "text/plain": [
       "Number of Levels                  3                  4                  5  \\\n",
       "Statistics               Welch test p-value Welch test p-value Welch test   \n",
       "Comparisson                                                                 \n",
       "Natural_C Vs DBSCAN           -0.46    0.64       2.89     0.0       9.37   \n",
       "Natural_C Vs OPTICS          108.72    0.00      79.07     0.0      68.45   \n",
       "Natural_C Vs HDBSCAN          60.97    0.00      44.71     0.0      36.48   \n",
       "Natural_C Vs Adap_DBSCAN      -9.08    0.00      -3.54     0.0       0.63   \n",
       "DBSCAN Vs OPTICS              54.59    0.00      30.91     0.0      27.14   \n",
       "DBSCAN Vs HDBSCAN             32.65    0.00      18.06     0.0      12.12   \n",
       "DBSCAN Vs Adap_DBSCAN         -5.77    0.00      -4.92     0.0      -8.08   \n",
       "OPTICS Vs HDBSCAN           -102.13    0.00     -55.77     0.0     -43.45   \n",
       "OPTICS Vs Adap_DBSCAN        -95.49    0.00     -67.92     0.0     -49.31   \n",
       "HDBSCAN Vs Adap_DBSCAN       -59.50    0.00     -41.45     0.0     -27.76   \n",
       "\n",
       "Number of Levels                  \n",
       "Statistics               p-value  \n",
       "Comparisson                       \n",
       "Natural_C Vs DBSCAN         0.00  \n",
       "Natural_C Vs OPTICS         0.00  \n",
       "Natural_C Vs HDBSCAN        0.00  \n",
       "Natural_C Vs Adap_DBSCAN    0.53  \n",
       "DBSCAN Vs OPTICS            0.00  \n",
       "DBSCAN Vs HDBSCAN           0.00  \n",
       "DBSCAN Vs Adap_DBSCAN       0.00  \n",
       "OPTICS Vs HDBSCAN           0.00  \n",
       "OPTICS Vs Adap_DBSCAN       0.00  \n",
       "HDBSCAN Vs Adap_DBSCAN      0.00  "
      ]
     },
     "execution_count": 27,
     "metadata": {},
     "output_type": "execute_result"
    }
   ],
   "source": [
    "algos = nmi_df.Algorithm.unique()\n",
    "pairs = list(combinations(algos, 2))\n",
    "welchs = []\n",
    "for l in nmi_df[\"Number of levels\"].unique():\n",
    "  level = []\n",
    "  for a1, a2 in pairs:\n",
    "    if a1 != a2:\n",
    "      w = ttest_ind(nmi_df.loc[(nmi_df['Algorithm'] == a1) & (nmi_df['Number of levels'] == l)]['NMI'].values, \n",
    "                    nmi_df.loc[(nmi_df['Algorithm'] == a2) & (nmi_df['Number of levels'] == l)]['NMI'].values, \n",
    "                    equal_var=False)\n",
    "      level.append({'Comparisson': f'{a1} Vs {a2}' ,'Welch test': round(w.statistic, 2), \"p-value\": round(w.pvalue, 2)})\n",
    "  welchs.append(pd.DataFrame(level))\n",
    "welchs = pd.concat([w.set_index('Comparisson') for w in welchs], axis=1)\n",
    "iterables = [[\"3\", \"4\", \"5\"], [\"Welch test\", \"p-value\"]]\n",
    "welchs.columns = pd.MultiIndex.from_product(iterables, names=[\"Number of Levels\", \"Statistics\"])\n",
    "welchs"
   ]
  },
  {
   "cell_type": "code",
   "execution_count": 29,
   "metadata": {
    "colab": {
     "base_uri": "https://localhost:8080/",
     "height": 127
    },
    "id": "HgI2sqAOsJTo",
    "outputId": "bb2d9ea6-7c31-47bc-e55c-0eee3d1b7baf"
   },
   "outputs": [
    {
     "data": {
      "text/plain": [
       "'\\\\begin{tabular}{lrrrrrr}\\n\\\\toprule\\n             Comparisson & \\\\multicolumn{2}{l}{3} & \\\\multicolumn{2}{l}{4} & \\\\multicolumn{2}{l}{5} \\\\\\\\\\n                         & Welch test & p-value & Welch test & p-value & Welch test & p-value \\\\\\\\\\n\\\\midrule\\n     Natural\\\\_C Vs DBSCAN &      -0.46 &    0.64 &       2.89 &     0.0 &       9.37 &    0.00 \\\\\\\\\\n     Natural\\\\_C Vs OPTICS &     108.72 &    0.00 &      79.07 &     0.0 &      68.45 &    0.00 \\\\\\\\\\n    Natural\\\\_C Vs HDBSCAN &      60.97 &    0.00 &      44.71 &     0.0 &      36.48 &    0.00 \\\\\\\\\\nNatural\\\\_C Vs Adap\\\\_DBSCAN &      -9.08 &    0.00 &      -3.54 &     0.0 &       0.63 &    0.53 \\\\\\\\\\n        DBSCAN Vs OPTICS &      54.59 &    0.00 &      30.91 &     0.0 &      27.14 &    0.00 \\\\\\\\\\n       DBSCAN Vs HDBSCAN &      32.65 &    0.00 &      18.06 &     0.0 &      12.12 &    0.00 \\\\\\\\\\n   DBSCAN Vs Adap\\\\_DBSCAN &      -5.77 &    0.00 &      -4.92 &     0.0 &      -8.08 &    0.00 \\\\\\\\\\n       OPTICS Vs HDBSCAN &    -102.13 &    0.00 &     -55.77 &     0.0 &     -43.45 &    0.00 \\\\\\\\\\n   OPTICS Vs Adap\\\\_DBSCAN &     -95.49 &    0.00 &     -67.92 &     0.0 &     -49.31 &    0.00 \\\\\\\\\\n  HDBSCAN Vs Adap\\\\_DBSCAN &     -59.50 &    0.00 &     -41.45 &     0.0 &     -27.76 &    0.00 \\\\\\\\\\n\\\\bottomrule\\n\\\\end{tabular}\\n'"
      ]
     },
     "execution_count": 29,
     "metadata": {},
     "output_type": "execute_result"
    }
   ],
   "source": [
    "welchs.reset_index().to_latex(index=False)"
   ]
  },
  {
   "cell_type": "code",
   "execution_count": null,
   "metadata": {
    "colab": {
     "base_uri": "https://localhost:8080/",
     "height": 127
    },
    "id": "psoZFYhw3_Q9",
    "outputId": "004899e3-593a-475c-9a50-25afcfdf16dc"
   },
   "outputs": [
    {
     "data": {
      "application/vnd.google.colaboratory.intrinsic+json": {
       "type": "string"
      },
      "text/plain": [
       "'\\\\begin{tabular}{llrrrrrr}\\n\\\\toprule\\nNumber of Levels &               Comparisson & \\\\multicolumn{2}{l}{3} & \\\\multicolumn{2}{l}{4} & \\\\multicolumn{2}{l}{5} \\\\\\\\\\nStatistics &  Welch test &        p-value & Welch test &       p-value & Welch test &       p-value \\\\\\\\\\n\\\\midrule\\n0  &       Natural\\\\_C Vs DBSCAN &   -0.462191 &   6.443863e-01 &   2.889792 &  4.463815e-03 &   9.374123 &  5.930234e-17 \\\\\\\\\\n1  &       Natural\\\\_C Vs OPTICS &  108.718049 &  1.262494e-148 &  79.070305 &  4.556763e-95 &  68.446779 &  9.726230e-89 \\\\\\\\\\n2  &      Natural\\\\_C Vs HDBSCAN &   60.973112 &  2.517520e-134 &  44.710059 &  1.070219e-90 &  36.477760 &  2.918386e-82 \\\\\\\\\\n3  &  Natural\\\\_C Vs Adap\\\\_DBSCAN &   -9.077571 &   1.716227e-17 &  -3.543001 &  4.930972e-04 &   0.625629 &  5.323074e-01 \\\\\\\\\\n4  &       DBSCAN Vs Natural\\\\_C &    0.462191 &   6.443863e-01 &  -2.889792 &  4.463815e-03 &  -9.374123 &  5.930234e-17 \\\\\\\\\\n5  &          DBSCAN Vs OPTICS &   54.589169 &  3.547847e-103 &  30.911688 &  2.911208e-54 &  27.143748 &  4.651452e-49 \\\\\\\\\\n6  &         DBSCAN Vs HDBSCAN &   32.654477 &   1.001090e-74 &  18.056759 &  2.978022e-35 &  12.116448 &  6.724235e-23 \\\\\\\\\\n7  &     DBSCAN Vs Adap\\\\_DBSCAN &   -5.772386 &   2.183198e-08 &  -4.919487 &  2.144340e-06 &  -8.078004 &  6.919860e-14 \\\\\\\\\\n8  &       OPTICS Vs Natural\\\\_C & -108.718049 &  1.262494e-148 & -79.070305 &  4.556763e-95 & -68.446779 &  9.726230e-89 \\\\\\\\\\n9  &          OPTICS Vs DBSCAN &  -54.589169 &  3.547847e-103 & -30.911688 &  2.911208e-54 & -27.143748 &  4.651452e-49 \\\\\\\\\\n10 &         OPTICS Vs HDBSCAN & -102.134961 &  2.909834e-146 & -55.774252 &  2.274911e-80 & -43.446532 &  2.514350e-69 \\\\\\\\\\n11 &     OPTICS Vs Adap\\\\_DBSCAN &  -95.490615 &  7.621595e-140 & -67.924525 &  3.473504e-88 & -49.312687 &  3.948161e-74 \\\\\\\\\\n12 &      HDBSCAN Vs Natural\\\\_C &  -60.973112 &  2.517520e-134 & -44.710059 &  1.070219e-90 & -36.477760 &  2.918386e-82 \\\\\\\\\\n13 &         HDBSCAN Vs DBSCAN &  -32.654477 &   1.001090e-74 & -18.056759 &  2.978022e-35 & -12.116448 &  6.724235e-23 \\\\\\\\\\n14 &         HDBSCAN Vs OPTICS &  102.134961 &  2.909834e-146 &  55.774252 &  2.274911e-80 &  43.446532 &  2.514350e-69 \\\\\\\\\\n15 &    HDBSCAN Vs Adap\\\\_DBSCAN &  -59.497707 &  2.361462e-123 & -41.448812 &  6.330155e-80 & -27.761395 &  2.677365e-59 \\\\\\\\\\n16 &  Adap\\\\_DBSCAN Vs Natural\\\\_C &    9.077571 &   1.716227e-17 &   3.543001 &  4.930972e-04 &  -0.625629 &  5.323074e-01 \\\\\\\\\\n17 &     Adap\\\\_DBSCAN Vs DBSCAN &    5.772386 &   2.183198e-08 &   4.919487 &  2.144340e-06 &   8.078004 &  6.919860e-14 \\\\\\\\\\n18 &     Adap\\\\_DBSCAN Vs OPTICS &   95.490615 &  7.621595e-140 &  67.924525 &  3.473504e-88 &  49.312687 &  3.948161e-74 \\\\\\\\\\n19 &    Adap\\\\_DBSCAN Vs HDBSCAN &   59.497707 &  2.361462e-123 &  41.448812 &  6.330155e-80 &  27.761395 &  2.677365e-59 \\\\\\\\\\n\\\\bottomrule\\n\\\\end{tabular}\\n'"
      ]
     },
     "execution_count": 86,
     "metadata": {},
     "output_type": "execute_result"
    }
   ],
   "source": [
    "a.reset_index().to_latex()"
   ]
  },
  {
   "cell_type": "code",
   "execution_count": null,
   "metadata": {
    "colab": {
     "base_uri": "https://localhost:8080/"
    },
    "id": "GRpb1Ofb_nwR",
    "outputId": "af318360-83ff-4d64-864b-2f237da72e8c"
   },
   "outputs": [
    {
     "data": {
      "text/plain": [
       "[('Natural_C', 'DBSCAN'),\n",
       " ('Natural_C', 'OPTICS'),\n",
       " ('Natural_C', 'HDBSCAN'),\n",
       " ('Natural_C', 'Adap_DBSCAN'),\n",
       " ('DBSCAN', 'OPTICS'),\n",
       " ('DBSCAN', 'HDBSCAN'),\n",
       " ('DBSCAN', 'Adap_DBSCAN'),\n",
       " ('OPTICS', 'HDBSCAN'),\n",
       " ('OPTICS', 'Adap_DBSCAN'),\n",
       " ('HDBSCAN', 'Adap_DBSCAN')]"
      ]
     },
     "execution_count": 92,
     "metadata": {},
     "output_type": "execute_result"
    }
   ],
   "source": [
    "list(combinations(algos, 2))"
   ]
  },
  {
   "cell_type": "markdown",
   "metadata": {},
   "source": [
    "# Balanced Acuracy\n",
    "\n",
    "Using the data we need to do one for each level of experiments \n"
   ]
  },
  {
   "cell_type": "code",
   "execution_count": 47,
   "metadata": {},
   "outputs": [
    {
     "data": {
      "text/plain": [
       "['5', '4', '3']"
      ]
     },
     "execution_count": 47,
     "metadata": {},
     "output_type": "execute_result"
    }
   ],
   "source": [
    "bas_levels"
   ]
  },
  {
   "cell_type": "code",
   "execution_count": 32,
   "metadata": {
    "id": "9uuJb_P_CDi-"
   },
   "outputs": [
    {
     "data": {
      "text/html": [
       "<div>\n",
       "<style scoped>\n",
       "    .dataframe tbody tr th:only-of-type {\n",
       "        vertical-align: middle;\n",
       "    }\n",
       "\n",
       "    .dataframe tbody tr th {\n",
       "        vertical-align: top;\n",
       "    }\n",
       "\n",
       "    .dataframe thead th {\n",
       "        text-align: right;\n",
       "    }\n",
       "</style>\n",
       "<table border=\"1\" class=\"dataframe\">\n",
       "  <thead>\n",
       "    <tr style=\"text-align: right;\">\n",
       "      <th></th>\n",
       "      <th>Algorithm</th>\n",
       "      <th>Number of levels</th>\n",
       "      <th>variable</th>\n",
       "      <th>BAS</th>\n",
       "    </tr>\n",
       "  </thead>\n",
       "  <tbody>\n",
       "    <tr>\n",
       "      <th>0</th>\n",
       "      <td>Natural_C</td>\n",
       "      <td>5</td>\n",
       "      <td>BAS</td>\n",
       "      <td>0.965388</td>\n",
       "    </tr>\n",
       "    <tr>\n",
       "      <th>1</th>\n",
       "      <td>Natural_C</td>\n",
       "      <td>5</td>\n",
       "      <td>BAS</td>\n",
       "      <td>0.884940</td>\n",
       "    </tr>\n",
       "    <tr>\n",
       "      <th>2</th>\n",
       "      <td>Natural_C</td>\n",
       "      <td>5</td>\n",
       "      <td>BAS</td>\n",
       "      <td>0.853435</td>\n",
       "    </tr>\n",
       "    <tr>\n",
       "      <th>3</th>\n",
       "      <td>Natural_C</td>\n",
       "      <td>5</td>\n",
       "      <td>BAS</td>\n",
       "      <td>0.500000</td>\n",
       "    </tr>\n",
       "    <tr>\n",
       "      <th>4</th>\n",
       "      <td>Natural_C</td>\n",
       "      <td>5</td>\n",
       "      <td>BAS</td>\n",
       "      <td>0.985628</td>\n",
       "    </tr>\n",
       "    <tr>\n",
       "      <th>...</th>\n",
       "      <td>...</td>\n",
       "      <td>...</td>\n",
       "      <td>...</td>\n",
       "      <td>...</td>\n",
       "    </tr>\n",
       "    <tr>\n",
       "      <th>9400</th>\n",
       "      <td>Adap_DBSCAN</td>\n",
       "      <td>3</td>\n",
       "      <td>BAS</td>\n",
       "      <td>0.985288</td>\n",
       "    </tr>\n",
       "    <tr>\n",
       "      <th>9401</th>\n",
       "      <td>Adap_DBSCAN</td>\n",
       "      <td>3</td>\n",
       "      <td>BAS</td>\n",
       "      <td>0.970695</td>\n",
       "    </tr>\n",
       "    <tr>\n",
       "      <th>9402</th>\n",
       "      <td>Adap_DBSCAN</td>\n",
       "      <td>3</td>\n",
       "      <td>BAS</td>\n",
       "      <td>0.833263</td>\n",
       "    </tr>\n",
       "    <tr>\n",
       "      <th>9403</th>\n",
       "      <td>Adap_DBSCAN</td>\n",
       "      <td>3</td>\n",
       "      <td>BAS</td>\n",
       "      <td>0.816131</td>\n",
       "    </tr>\n",
       "    <tr>\n",
       "      <th>9404</th>\n",
       "      <td>Adap_DBSCAN</td>\n",
       "      <td>3</td>\n",
       "      <td>BAS</td>\n",
       "      <td>0.500000</td>\n",
       "    </tr>\n",
       "  </tbody>\n",
       "</table>\n",
       "<p>9405 rows × 4 columns</p>\n",
       "</div>"
      ],
      "text/plain": [
       "        Algorithm Number of levels variable       BAS\n",
       "0       Natural_C                5      BAS  0.965388\n",
       "1       Natural_C                5      BAS  0.884940\n",
       "2       Natural_C                5      BAS  0.853435\n",
       "3       Natural_C                5      BAS  0.500000\n",
       "4       Natural_C                5      BAS  0.985628\n",
       "...           ...              ...      ...       ...\n",
       "9400  Adap_DBSCAN                3      BAS  0.985288\n",
       "9401  Adap_DBSCAN                3      BAS  0.970695\n",
       "9402  Adap_DBSCAN                3      BAS  0.833263\n",
       "9403  Adap_DBSCAN                3      BAS  0.816131\n",
       "9404  Adap_DBSCAN                3      BAS  0.500000\n",
       "\n",
       "[9405 rows x 4 columns]"
      ]
     },
     "execution_count": 32,
     "metadata": {},
     "output_type": "execute_result"
    }
   ],
   "source": [
    "bas_files = glob.glob(\"../data/Data_frames/*BAS*\")\n",
    "bas_levels = [s.split(\"_\")[-1].split(\".\")[0][-1] for s in nmi_files]\n",
    "bas_df = []\n",
    "for f,l in zip(bas_files,bas_levels):\n",
    "    df = pd.read_csv(f)\n",
    "    df['Number of levels'] = l\n",
    "    bas_df.append(df)\n",
    "    \n",
    "bas_df = (pd.concat(bas_df)\n",
    "          .melt(id_vars=['algorithm', 'Number of levels'], value_vars=['BAS'])\n",
    "          .rename({'algorithm': 'Algorithm',\n",
    "                   'value': 'BAS'}, axis=1))\n",
    "bas_df"
   ]
  },
  {
   "cell_type": "code",
   "execution_count": 39,
   "metadata": {},
   "outputs": [
    {
     "data": {
      "text/plain": [
       "<matplotlib.legend.Legend at 0x7ff9f16c28d0>"
      ]
     },
     "execution_count": 39,
     "metadata": {},
     "output_type": "execute_result"
    },
    {
     "data": {
      "image/png": "[encoded data removed]",
      "text/plain": [
       "<Figure size 1080x576 with 1 Axes>"
      ]
     },
     "metadata": {},
     "output_type": "display_data"
    }
   ],
   "source": [
    "fig, axs = plt.subplots( figsize=(15, 8))\n",
    "\n",
    "# plt.figure(figsize=(16,5))\n",
    "sns.barplot(x=\"Number of levels\", y=\"BAS\", hue=\"Algorithm\", data=bas_df, order=[\"3\", \"4\", \"5\"], ax= axs)\n",
    "axs.get_legend().remove()\n",
    "axs.tick_params(axis='both', labelsize=18)\n",
    "axs.set_ylabel('Balanced Acuracy', fontsize = 22)\n",
    "axs.set_xlabel('Level', fontsize = 22)\n",
    "fig.legend(loc='upper center',\n",
    "           ncol=5,\n",
    "           fontsize=14,\n",
    "           # bbox_to_anchor=(5, .5),\n",
    "          )"
   ]
  },
  {
   "cell_type": "code",
   "execution_count": 37,
   "metadata": {},
   "outputs": [
    {
     "data": {
      "text/html": [
       "<div>\n",
       "<style scoped>\n",
       "    .dataframe tbody tr th:only-of-type {\n",
       "        vertical-align: middle;\n",
       "    }\n",
       "\n",
       "    .dataframe tbody tr th {\n",
       "        vertical-align: top;\n",
       "    }\n",
       "\n",
       "    .dataframe thead tr th {\n",
       "        text-align: left;\n",
       "    }\n",
       "\n",
       "    .dataframe thead tr:last-of-type th {\n",
       "        text-align: right;\n",
       "    }\n",
       "</style>\n",
       "<table border=\"1\" class=\"dataframe\">\n",
       "  <thead>\n",
       "    <tr>\n",
       "      <th>Number of Levels</th>\n",
       "      <th colspan=\"2\" halign=\"left\">3</th>\n",
       "      <th colspan=\"2\" halign=\"left\">4</th>\n",
       "      <th colspan=\"2\" halign=\"left\">5</th>\n",
       "    </tr>\n",
       "    <tr>\n",
       "      <th>Statistics</th>\n",
       "      <th>Welch test</th>\n",
       "      <th>p-value</th>\n",
       "      <th>Welch test</th>\n",
       "      <th>p-value</th>\n",
       "      <th>Welch test</th>\n",
       "      <th>p-value</th>\n",
       "    </tr>\n",
       "    <tr>\n",
       "      <th>Comparisson</th>\n",
       "      <th></th>\n",
       "      <th></th>\n",
       "      <th></th>\n",
       "      <th></th>\n",
       "      <th></th>\n",
       "      <th></th>\n",
       "    </tr>\n",
       "  </thead>\n",
       "  <tbody>\n",
       "    <tr>\n",
       "      <th>Natural_C Vs DBSCAN</th>\n",
       "      <td>18.73</td>\n",
       "      <td>0.00</td>\n",
       "      <td>18.49</td>\n",
       "      <td>0.00</td>\n",
       "      <td>21.07</td>\n",
       "      <td>0.0</td>\n",
       "    </tr>\n",
       "    <tr>\n",
       "      <th>Natural_C Vs OPTICS</th>\n",
       "      <td>26.40</td>\n",
       "      <td>0.00</td>\n",
       "      <td>32.59</td>\n",
       "      <td>0.00</td>\n",
       "      <td>48.38</td>\n",
       "      <td>0.0</td>\n",
       "    </tr>\n",
       "    <tr>\n",
       "      <th>Natural_C Vs HDBSCAN</th>\n",
       "      <td>19.93</td>\n",
       "      <td>0.00</td>\n",
       "      <td>24.72</td>\n",
       "      <td>0.00</td>\n",
       "      <td>36.39</td>\n",
       "      <td>0.0</td>\n",
       "    </tr>\n",
       "    <tr>\n",
       "      <th>Natural_C Vs Adap_DBSCAN</th>\n",
       "      <td>4.44</td>\n",
       "      <td>0.00</td>\n",
       "      <td>-0.08</td>\n",
       "      <td>0.94</td>\n",
       "      <td>-4.60</td>\n",
       "      <td>0.0</td>\n",
       "    </tr>\n",
       "    <tr>\n",
       "      <th>DBSCAN Vs OPTICS</th>\n",
       "      <td>7.18</td>\n",
       "      <td>0.00</td>\n",
       "      <td>12.58</td>\n",
       "      <td>0.00</td>\n",
       "      <td>23.73</td>\n",
       "      <td>0.0</td>\n",
       "    </tr>\n",
       "    <tr>\n",
       "      <th>DBSCAN Vs HDBSCAN</th>\n",
       "      <td>-0.93</td>\n",
       "      <td>0.35</td>\n",
       "      <td>4.65</td>\n",
       "      <td>0.00</td>\n",
       "      <td>12.83</td>\n",
       "      <td>0.0</td>\n",
       "    </tr>\n",
       "    <tr>\n",
       "      <th>DBSCAN Vs Adap_DBSCAN</th>\n",
       "      <td>-14.09</td>\n",
       "      <td>0.00</td>\n",
       "      <td>-17.73</td>\n",
       "      <td>0.00</td>\n",
       "      <td>-24.94</td>\n",
       "      <td>0.0</td>\n",
       "    </tr>\n",
       "    <tr>\n",
       "      <th>OPTICS Vs HDBSCAN</th>\n",
       "      <td>-8.56</td>\n",
       "      <td>0.00</td>\n",
       "      <td>-8.34</td>\n",
       "      <td>0.00</td>\n",
       "      <td>-11.40</td>\n",
       "      <td>0.0</td>\n",
       "    </tr>\n",
       "    <tr>\n",
       "      <th>OPTICS Vs Adap_DBSCAN</th>\n",
       "      <td>-21.55</td>\n",
       "      <td>0.00</td>\n",
       "      <td>-31.31</td>\n",
       "      <td>0.00</td>\n",
       "      <td>-52.15</td>\n",
       "      <td>0.0</td>\n",
       "    </tr>\n",
       "    <tr>\n",
       "      <th>HDBSCAN Vs Adap_DBSCAN</th>\n",
       "      <td>-14.49</td>\n",
       "      <td>0.00</td>\n",
       "      <td>-23.61</td>\n",
       "      <td>0.00</td>\n",
       "      <td>-40.29</td>\n",
       "      <td>0.0</td>\n",
       "    </tr>\n",
       "  </tbody>\n",
       "</table>\n",
       "</div>"
      ],
      "text/plain": [
       "Number of Levels                  3                  4                  5  \\\n",
       "Statistics               Welch test p-value Welch test p-value Welch test   \n",
       "Comparisson                                                                 \n",
       "Natural_C Vs DBSCAN           18.73    0.00      18.49    0.00      21.07   \n",
       "Natural_C Vs OPTICS           26.40    0.00      32.59    0.00      48.38   \n",
       "Natural_C Vs HDBSCAN          19.93    0.00      24.72    0.00      36.39   \n",
       "Natural_C Vs Adap_DBSCAN       4.44    0.00      -0.08    0.94      -4.60   \n",
       "DBSCAN Vs OPTICS               7.18    0.00      12.58    0.00      23.73   \n",
       "DBSCAN Vs HDBSCAN             -0.93    0.35       4.65    0.00      12.83   \n",
       "DBSCAN Vs Adap_DBSCAN        -14.09    0.00     -17.73    0.00     -24.94   \n",
       "OPTICS Vs HDBSCAN             -8.56    0.00      -8.34    0.00     -11.40   \n",
       "OPTICS Vs Adap_DBSCAN        -21.55    0.00     -31.31    0.00     -52.15   \n",
       "HDBSCAN Vs Adap_DBSCAN       -14.49    0.00     -23.61    0.00     -40.29   \n",
       "\n",
       "Number of Levels                  \n",
       "Statistics               p-value  \n",
       "Comparisson                       \n",
       "Natural_C Vs DBSCAN          0.0  \n",
       "Natural_C Vs OPTICS          0.0  \n",
       "Natural_C Vs HDBSCAN         0.0  \n",
       "Natural_C Vs Adap_DBSCAN     0.0  \n",
       "DBSCAN Vs OPTICS             0.0  \n",
       "DBSCAN Vs HDBSCAN            0.0  \n",
       "DBSCAN Vs Adap_DBSCAN        0.0  \n",
       "OPTICS Vs HDBSCAN            0.0  \n",
       "OPTICS Vs Adap_DBSCAN        0.0  \n",
       "HDBSCAN Vs Adap_DBSCAN       0.0  "
      ]
     },
     "execution_count": 37,
     "metadata": {},
     "output_type": "execute_result"
    }
   ],
   "source": [
    "algos = bas_df.Algorithm.unique()\n",
    "pairs = list(combinations(algos, 2))\n",
    "welchs_bas = []\n",
    "for l in bas_df[\"Number of levels\"].unique():\n",
    "    level = []\n",
    "    for a1, a2 in pairs:\n",
    "        if a1 != a2:\n",
    "            w = ttest_ind(bas_df.loc[(bas_df['Algorithm'] == a1) & (bas_df['Number of levels'] == l)]['BAS'].values, \n",
    "                    bas_df.loc[(bas_df['Algorithm'] == a2) & (bas_df['Number of levels'] == l)]['BAS'].values, \n",
    "                    equal_var=False)\n",
    "            level.append({'Comparisson': f'{a1} Vs {a2}' ,'Welch test': round(w.statistic, 2), \"p-value\": round(w.pvalue, 2)})\n",
    "    welchs_bas.append(pd.DataFrame(level))\n",
    "welchs_bas = pd.concat([w.set_index('Comparisson') for w in welchs_bas], axis=1)\n",
    "iterables = [[\"3\", \"4\", \"5\"], [\"Welch test\", \"p-value\"]]\n",
    "welchs_bas.columns = pd.MultiIndex.from_product(iterables, names=[\"Number of Levels\", \"Statistics\"])\n",
    "welchs_bas"
   ]
  },
  {
   "cell_type": "code",
   "execution_count": 48,
   "metadata": {
    "id": "9uuJb_P_CDi-"
   },
   "outputs": [
    {
     "data": {
      "text/html": [
       "<div>\n",
       "<style scoped>\n",
       "    .dataframe tbody tr th:only-of-type {\n",
       "        vertical-align: middle;\n",
       "    }\n",
       "\n",
       "    .dataframe tbody tr th {\n",
       "        vertical-align: top;\n",
       "    }\n",
       "\n",
       "    .dataframe thead th {\n",
       "        text-align: right;\n",
       "    }\n",
       "</style>\n",
       "<table border=\"1\" class=\"dataframe\">\n",
       "  <thead>\n",
       "    <tr style=\"text-align: right;\">\n",
       "      <th></th>\n",
       "      <th>Algorithm</th>\n",
       "      <th>Number of levels</th>\n",
       "      <th>Level</th>\n",
       "      <th>variable</th>\n",
       "      <th>BAS</th>\n",
       "    </tr>\n",
       "  </thead>\n",
       "  <tbody>\n",
       "    <tr>\n",
       "      <th>0</th>\n",
       "      <td>Natural_C</td>\n",
       "      <td>5</td>\n",
       "      <td>0</td>\n",
       "      <td>BAS</td>\n",
       "      <td>0.965388</td>\n",
       "    </tr>\n",
       "    <tr>\n",
       "      <th>1</th>\n",
       "      <td>Natural_C</td>\n",
       "      <td>5</td>\n",
       "      <td>1</td>\n",
       "      <td>BAS</td>\n",
       "      <td>0.884940</td>\n",
       "    </tr>\n",
       "    <tr>\n",
       "      <th>2</th>\n",
       "      <td>Natural_C</td>\n",
       "      <td>5</td>\n",
       "      <td>2</td>\n",
       "      <td>BAS</td>\n",
       "      <td>0.853435</td>\n",
       "    </tr>\n",
       "    <tr>\n",
       "      <th>3</th>\n",
       "      <td>Natural_C</td>\n",
       "      <td>5</td>\n",
       "      <td>3</td>\n",
       "      <td>BAS</td>\n",
       "      <td>0.500000</td>\n",
       "    </tr>\n",
       "    <tr>\n",
       "      <th>4</th>\n",
       "      <td>Natural_C</td>\n",
       "      <td>5</td>\n",
       "      <td>0</td>\n",
       "      <td>BAS</td>\n",
       "      <td>0.985628</td>\n",
       "    </tr>\n",
       "    <tr>\n",
       "      <th>...</th>\n",
       "      <td>...</td>\n",
       "      <td>...</td>\n",
       "      <td>...</td>\n",
       "      <td>...</td>\n",
       "      <td>...</td>\n",
       "    </tr>\n",
       "    <tr>\n",
       "      <th>9400</th>\n",
       "      <td>Adap_DBSCAN</td>\n",
       "      <td>3</td>\n",
       "      <td>1</td>\n",
       "      <td>BAS</td>\n",
       "      <td>0.985288</td>\n",
       "    </tr>\n",
       "    <tr>\n",
       "      <th>9401</th>\n",
       "      <td>Adap_DBSCAN</td>\n",
       "      <td>3</td>\n",
       "      <td>2</td>\n",
       "      <td>BAS</td>\n",
       "      <td>0.970695</td>\n",
       "    </tr>\n",
       "    <tr>\n",
       "      <th>9402</th>\n",
       "      <td>Adap_DBSCAN</td>\n",
       "      <td>3</td>\n",
       "      <td>3</td>\n",
       "      <td>BAS</td>\n",
       "      <td>0.833263</td>\n",
       "    </tr>\n",
       "    <tr>\n",
       "      <th>9403</th>\n",
       "      <td>Adap_DBSCAN</td>\n",
       "      <td>3</td>\n",
       "      <td>4</td>\n",
       "      <td>BAS</td>\n",
       "      <td>0.816131</td>\n",
       "    </tr>\n",
       "    <tr>\n",
       "      <th>9404</th>\n",
       "      <td>Adap_DBSCAN</td>\n",
       "      <td>3</td>\n",
       "      <td>5</td>\n",
       "      <td>BAS</td>\n",
       "      <td>0.500000</td>\n",
       "    </tr>\n",
       "  </tbody>\n",
       "</table>\n",
       "<p>9405 rows × 5 columns</p>\n",
       "</div>"
      ],
      "text/plain": [
       "        Algorithm Number of levels  Level variable       BAS\n",
       "0       Natural_C                5      0      BAS  0.965388\n",
       "1       Natural_C                5      1      BAS  0.884940\n",
       "2       Natural_C                5      2      BAS  0.853435\n",
       "3       Natural_C                5      3      BAS  0.500000\n",
       "4       Natural_C                5      0      BAS  0.985628\n",
       "...           ...              ...    ...      ...       ...\n",
       "9400  Adap_DBSCAN                3      1      BAS  0.985288\n",
       "9401  Adap_DBSCAN                3      2      BAS  0.970695\n",
       "9402  Adap_DBSCAN                3      3      BAS  0.833263\n",
       "9403  Adap_DBSCAN                3      4      BAS  0.816131\n",
       "9404  Adap_DBSCAN                3      5      BAS  0.500000\n",
       "\n",
       "[9405 rows x 5 columns]"
      ]
     },
     "execution_count": 48,
     "metadata": {},
     "output_type": "execute_result"
    }
   ],
   "source": [
    "bas_files = glob.glob(\"../data/Data_frames/*BAS*\")\n",
    "bas_levels = [s.split(\"_\")[-1].split(\".\")[0][-1] for s in nmi_files]\n",
    "bas_df = []\n",
    "for f,l in zip(bas_files,bas_levels):\n",
    "    df = pd.read_csv(f)\n",
    "    df['Number of levels'] = l\n",
    "    bas_df.append(df)\n",
    "    \n",
    "bas_df = (pd.concat(bas_df)\n",
    "          .melt(id_vars=['algorithm', 'Number of levels', 'Level'], value_vars=['BAS'])\n",
    "          .rename({'algorithm': 'Algorithm',\n",
    "                   'value': 'BAS'}, axis=1))\n",
    "bas_df"
   ]
  },
  {
   "cell_type": "code",
   "execution_count": 53,
   "metadata": {},
   "outputs": [
    {
     "data": {
      "text/plain": [
       "<matplotlib.legend.Legend at 0x7ff9f1882450>"
      ]
     },
     "execution_count": 53,
     "metadata": {},
     "output_type": "execute_result"
    },
    {
     "data": {
      "image/png": "[encoded data removed]",
      "text/plain": [
       "<Figure size 1080x576 with 1 Axes>"
      ]
     },
     "metadata": {},
     "output_type": "display_data"
    }
   ],
   "source": [
    "fig, axs = plt.subplots( figsize=(15, 8))\n",
    "\n",
    "# plt.figure(figsize=(16,5))\n",
    "sns.barplot(x=\"Level\", y=\"BAS\", hue=\"Algorithm\", data=bas_df, order=[0,1,2,3,4], ax= axs)\n",
    "axs.get_legend().remove()\n",
    "axs.tick_params(axis='both', labelsize=18)\n",
    "axs.set_ylabel('Balanced Acuracy', fontsize = 22)\n",
    "axs.set_xlabel('Level', fontsize = 22)\n",
    "fig.legend(loc='upper center',\n",
    "           ncol=5,\n",
    "           fontsize=14,\n",
    "           # bbox_to_anchor=(5, .5),\n",
    "          )"
   ]
  },
  {
   "cell_type": "code",
   "execution_count": 79,
   "metadata": {},
   "outputs": [],
   "source": [
    "algos = bas_df.Algorithm.unique()\n",
    "pairs = list(combinations(algos, 2))\n",
    "welchs_bas = []\n",
    "for l in bas_df[\"Level\"].unique():\n",
    "    level = []\n",
    "    for a1, a2 in pairs:\n",
    "        if a1 != a2:\n",
    "            w = ttest_ind(bas_df.loc[(bas_df['Algorithm'] == a1) & (bas_df['Level'] == l)]['BAS'].values, \n",
    "                    bas_df.loc[(bas_df['Algorithm'] == a2) & (bas_df['Level'] == l)]['BAS'].values, \n",
    "                    equal_var=False)\n",
    "            level.append({'Comparisson': f'{a1} Vs {a2}', 'Level':l, 'Welch test': round(w.statistic, 2), \"p-value\": round(w.pvalue, 2)})\n",
    "    welchs_bas.append(level)\n",
    "# welchs_bas = pd.concat([w.set_index('Comparisson') for w in welchs_bas], axis=1)\n",
    "# iterables = [[0,1,2,3,4,5], [\"Welch test\", \"p-value\"]]\n",
    "# welchs_bas.columns = pd.MultiIndex.from_product(iterables, names=[\"Level\", \"Statistics\"])\n",
    "# welchs_bas"
   ]
  },
  {
   "cell_type": "code",
   "execution_count": 80,
   "metadata": {},
   "outputs": [
    {
     "data": {
      "text/plain": [
       "MultiIndex([(0, 'Welch test'),\n",
       "            (0,    'p-value'),\n",
       "            (1, 'Welch test'),\n",
       "            (1,    'p-value'),\n",
       "            (2, 'Welch test'),\n",
       "            (2,    'p-value'),\n",
       "            (3, 'Welch test'),\n",
       "            (3,    'p-value'),\n",
       "            (4, 'Welch test'),\n",
       "            (4,    'p-value'),\n",
       "            (5, 'Welch test'),\n",
       "            (5,    'p-value')],\n",
       "           names=['Level', 'Statistics'])"
      ]
     },
     "execution_count": 80,
     "metadata": {},
     "output_type": "execute_result"
    }
   ],
   "source": [
    "iterables = [[0,1,2,3,4,5], [\"Welch test\", \"p-value\"]]\n",
    "welchs_bas_mul_col = pd.MultiIndex.from_product(iterables, names=[\"Level\", \"Statistics\"])\n",
    "welchs_bas_mul_col"
   ]
  },
  {
   "cell_type": "code",
   "execution_count": 89,
   "metadata": {},
   "outputs": [
    {
     "ename": "ValueError",
     "evalue": "Must pass 2-d input. shape=(6, 10, 4)",
     "output_type": "error",
     "traceback": [
      "\u001b[0;31m---------------------------------------------------------------------------\u001b[0m",
      "\u001b[0;31mValueError\u001b[0m                                Traceback (most recent call last)",
      "\u001b[0;32m/tmp/ipykernel_374596/1315537488.py\u001b[0m in \u001b[0;36m<module>\u001b[0;34m\u001b[0m\n\u001b[0;32m----> 1\u001b[0;31m \u001b[0mpd\u001b[0m\u001b[0;34m.\u001b[0m\u001b[0mDataFrame\u001b[0m\u001b[0;34m(\u001b[0m\u001b[0mwelchs_bas\u001b[0m\u001b[0;34m)\u001b[0m\u001b[0;31m#,index= 'Comparisson', columns=welchs_bas_mul_col)\u001b[0m\u001b[0;34m\u001b[0m\u001b[0;34m\u001b[0m\u001b[0m\n\u001b[0m",
      "\u001b[0;32m~/anaconda3/envs/article_HGC/lib/python3.7/site-packages/pandas/core/frame.py\u001b[0m in \u001b[0;36m__init__\u001b[0;34m(self, data, index, columns, dtype, copy)\u001b[0m\n\u001b[1;32m    715\u001b[0m                         \u001b[0mdtype\u001b[0m\u001b[0;34m=\u001b[0m\u001b[0mdtype\u001b[0m\u001b[0;34m,\u001b[0m\u001b[0;34m\u001b[0m\u001b[0;34m\u001b[0m\u001b[0m\n\u001b[1;32m    716\u001b[0m                         \u001b[0mcopy\u001b[0m\u001b[0;34m=\u001b[0m\u001b[0mcopy\u001b[0m\u001b[0;34m,\u001b[0m\u001b[0;34m\u001b[0m\u001b[0;34m\u001b[0m\u001b[0m\n\u001b[0;32m--> 717\u001b[0;31m                         \u001b[0mtyp\u001b[0m\u001b[0;34m=\u001b[0m\u001b[0mmanager\u001b[0m\u001b[0;34m,\u001b[0m\u001b[0;34m\u001b[0m\u001b[0;34m\u001b[0m\u001b[0m\n\u001b[0m\u001b[1;32m    718\u001b[0m                     )\n\u001b[1;32m    719\u001b[0m             \u001b[0;32melse\u001b[0m\u001b[0;34m:\u001b[0m\u001b[0;34m\u001b[0m\u001b[0;34m\u001b[0m\u001b[0m\n",
      "\u001b[0;32m~/anaconda3/envs/article_HGC/lib/python3.7/site-packages/pandas/core/internals/construction.py\u001b[0m in \u001b[0;36mndarray_to_mgr\u001b[0;34m(values, index, columns, dtype, copy, typ)\u001b[0m\n\u001b[1;32m    302\u001b[0m         \u001b[0;31m# by definition an array here\u001b[0m\u001b[0;34m\u001b[0m\u001b[0;34m\u001b[0m\u001b[0;34m\u001b[0m\u001b[0m\n\u001b[1;32m    303\u001b[0m         \u001b[0;31m# the dtypes will be coerced to a single dtype\u001b[0m\u001b[0;34m\u001b[0m\u001b[0;34m\u001b[0m\u001b[0;34m\u001b[0m\u001b[0m\n\u001b[0;32m--> 304\u001b[0;31m         \u001b[0mvalues\u001b[0m \u001b[0;34m=\u001b[0m \u001b[0m_prep_ndarray\u001b[0m\u001b[0;34m(\u001b[0m\u001b[0mvalues\u001b[0m\u001b[0;34m,\u001b[0m \u001b[0mcopy\u001b[0m\u001b[0;34m=\u001b[0m\u001b[0mcopy\u001b[0m\u001b[0;34m)\u001b[0m\u001b[0;34m\u001b[0m\u001b[0;34m\u001b[0m\u001b[0m\n\u001b[0m\u001b[1;32m    305\u001b[0m \u001b[0;34m\u001b[0m\u001b[0m\n\u001b[1;32m    306\u001b[0m     \u001b[0;32mif\u001b[0m \u001b[0mdtype\u001b[0m \u001b[0;32mis\u001b[0m \u001b[0;32mnot\u001b[0m \u001b[0;32mNone\u001b[0m \u001b[0;32mand\u001b[0m \u001b[0;32mnot\u001b[0m \u001b[0mis_dtype_equal\u001b[0m\u001b[0;34m(\u001b[0m\u001b[0mvalues\u001b[0m\u001b[0;34m.\u001b[0m\u001b[0mdtype\u001b[0m\u001b[0;34m,\u001b[0m \u001b[0mdtype\u001b[0m\u001b[0;34m)\u001b[0m\u001b[0;34m:\u001b[0m\u001b[0;34m\u001b[0m\u001b[0;34m\u001b[0m\u001b[0m\n",
      "\u001b[0;32m~/anaconda3/envs/article_HGC/lib/python3.7/site-packages/pandas/core/internals/construction.py\u001b[0m in \u001b[0;36m_prep_ndarray\u001b[0;34m(values, copy)\u001b[0m\n\u001b[1;32m    553\u001b[0m         \u001b[0mvalues\u001b[0m \u001b[0;34m=\u001b[0m \u001b[0mvalues\u001b[0m\u001b[0;34m.\u001b[0m\u001b[0mreshape\u001b[0m\u001b[0;34m(\u001b[0m\u001b[0;34m(\u001b[0m\u001b[0mvalues\u001b[0m\u001b[0;34m.\u001b[0m\u001b[0mshape\u001b[0m\u001b[0;34m[\u001b[0m\u001b[0;36m0\u001b[0m\u001b[0;34m]\u001b[0m\u001b[0;34m,\u001b[0m \u001b[0;36m1\u001b[0m\u001b[0;34m)\u001b[0m\u001b[0;34m)\u001b[0m\u001b[0;34m\u001b[0m\u001b[0;34m\u001b[0m\u001b[0m\n\u001b[1;32m    554\u001b[0m     \u001b[0;32melif\u001b[0m \u001b[0mvalues\u001b[0m\u001b[0;34m.\u001b[0m\u001b[0mndim\u001b[0m \u001b[0;34m!=\u001b[0m \u001b[0;36m2\u001b[0m\u001b[0;34m:\u001b[0m\u001b[0;34m\u001b[0m\u001b[0;34m\u001b[0m\u001b[0m\n\u001b[0;32m--> 555\u001b[0;31m         \u001b[0;32mraise\u001b[0m \u001b[0mValueError\u001b[0m\u001b[0;34m(\u001b[0m\u001b[0;34mf\"Must pass 2-d input. shape={values.shape}\"\u001b[0m\u001b[0;34m)\u001b[0m\u001b[0;34m\u001b[0m\u001b[0;34m\u001b[0m\u001b[0m\n\u001b[0m\u001b[1;32m    556\u001b[0m \u001b[0;34m\u001b[0m\u001b[0m\n\u001b[1;32m    557\u001b[0m     \u001b[0;32mreturn\u001b[0m \u001b[0mvalues\u001b[0m\u001b[0;34m\u001b[0m\u001b[0;34m\u001b[0m\u001b[0m\n",
      "\u001b[0;31mValueError\u001b[0m: Must pass 2-d input. shape=(6, 10, 4)"
     ]
    }
   ],
   "source": [
    "pd.DataFrame(welchs_bas)#,index= 'Comparisson', columns=welchs_bas_mul_col)"
   ]
  },
  {
   "cell_type": "markdown",
   "metadata": {},
   "source": [
    "# Similarity Shape Measure"
   ]
  },
  {
   "cell_type": "code",
   "execution_count": 41,
   "metadata": {},
   "outputs": [
    {
     "data": {
      "text/html": [
       "<div>\n",
       "<style scoped>\n",
       "    .dataframe tbody tr th:only-of-type {\n",
       "        vertical-align: middle;\n",
       "    }\n",
       "\n",
       "    .dataframe tbody tr th {\n",
       "        vertical-align: top;\n",
       "    }\n",
       "\n",
       "    .dataframe thead th {\n",
       "        text-align: right;\n",
       "    }\n",
       "</style>\n",
       "<table border=\"1\" class=\"dataframe\">\n",
       "  <thead>\n",
       "    <tr style=\"text-align: right;\">\n",
       "      <th></th>\n",
       "      <th>Algorithm</th>\n",
       "      <th>Number of levels</th>\n",
       "      <th>variable</th>\n",
       "      <th>SSM</th>\n",
       "    </tr>\n",
       "  </thead>\n",
       "  <tbody>\n",
       "    <tr>\n",
       "      <th>0</th>\n",
       "      <td>Natural</td>\n",
       "      <td>5</td>\n",
       "      <td>SSM</td>\n",
       "      <td>0.843900</td>\n",
       "    </tr>\n",
       "    <tr>\n",
       "      <th>1</th>\n",
       "      <td>Natural</td>\n",
       "      <td>5</td>\n",
       "      <td>SSM</td>\n",
       "      <td>0.094370</td>\n",
       "    </tr>\n",
       "    <tr>\n",
       "      <th>2</th>\n",
       "      <td>Natural</td>\n",
       "      <td>5</td>\n",
       "      <td>SSM</td>\n",
       "      <td>0.000033</td>\n",
       "    </tr>\n",
       "    <tr>\n",
       "      <th>3</th>\n",
       "      <td>Natural</td>\n",
       "      <td>5</td>\n",
       "      <td>SSM</td>\n",
       "      <td>0.001834</td>\n",
       "    </tr>\n",
       "    <tr>\n",
       "      <th>4</th>\n",
       "      <td>Natural</td>\n",
       "      <td>5</td>\n",
       "      <td>SSM</td>\n",
       "      <td>0.001793</td>\n",
       "    </tr>\n",
       "    <tr>\n",
       "      <th>...</th>\n",
       "      <td>...</td>\n",
       "      <td>...</td>\n",
       "      <td>...</td>\n",
       "      <td>...</td>\n",
       "    </tr>\n",
       "    <tr>\n",
       "      <th>7570</th>\n",
       "      <td>Adap_DBSCAN</td>\n",
       "      <td>3</td>\n",
       "      <td>SSM</td>\n",
       "      <td>0.529553</td>\n",
       "    </tr>\n",
       "    <tr>\n",
       "      <th>7571</th>\n",
       "      <td>Adap_DBSCAN</td>\n",
       "      <td>3</td>\n",
       "      <td>SSM</td>\n",
       "      <td>0.804887</td>\n",
       "    </tr>\n",
       "    <tr>\n",
       "      <th>7572</th>\n",
       "      <td>Adap_DBSCAN</td>\n",
       "      <td>3</td>\n",
       "      <td>SSM</td>\n",
       "      <td>0.245013</td>\n",
       "    </tr>\n",
       "    <tr>\n",
       "      <th>7573</th>\n",
       "      <td>Adap_DBSCAN</td>\n",
       "      <td>3</td>\n",
       "      <td>SSM</td>\n",
       "      <td>0.338984</td>\n",
       "    </tr>\n",
       "    <tr>\n",
       "      <th>7574</th>\n",
       "      <td>Adap_DBSCAN</td>\n",
       "      <td>3</td>\n",
       "      <td>SSM</td>\n",
       "      <td>0.328644</td>\n",
       "    </tr>\n",
       "  </tbody>\n",
       "</table>\n",
       "<p>7575 rows × 4 columns</p>\n",
       "</div>"
      ],
      "text/plain": [
       "        Algorithm Number of levels variable       SSM\n",
       "0         Natural                5      SSM  0.843900\n",
       "1         Natural                5      SSM  0.094370\n",
       "2         Natural                5      SSM  0.000033\n",
       "3         Natural                5      SSM  0.001834\n",
       "4         Natural                5      SSM  0.001793\n",
       "...           ...              ...      ...       ...\n",
       "7570  Adap_DBSCAN                3      SSM  0.529553\n",
       "7571  Adap_DBSCAN                3      SSM  0.804887\n",
       "7572  Adap_DBSCAN                3      SSM  0.245013\n",
       "7573  Adap_DBSCAN                3      SSM  0.338984\n",
       "7574  Adap_DBSCAN                3      SSM  0.328644\n",
       "\n",
       "[7575 rows x 4 columns]"
      ]
     },
     "execution_count": 41,
     "metadata": {},
     "output_type": "execute_result"
    }
   ],
   "source": [
    "ssm_files = glob.glob(\"../data/Data_frames/*SSM*\")\n",
    "ssm_levels = [s.split(\"_\")[-1].split(\".\")[0][-1] for s in nmi_files]\n",
    "ssm_df = []\n",
    "for f,l in zip(ssm_files,ssm_levels):\n",
    "    df = pd.read_csv(f)\n",
    "    df['Number of levels'] = l\n",
    "    ssm_df.append(df)\n",
    "    \n",
    "ssm_df = (pd.concat(ssm_df)\n",
    "          .melt(id_vars=['algorithm', 'Number of levels'], value_vars=['SSM'])\n",
    "          .rename({'algorithm': 'Algorithm',\n",
    "                   'value': 'SSM'}, axis=1))\n",
    "ssm_df"
   ]
  },
  {
   "cell_type": "code",
   "execution_count": 42,
   "metadata": {},
   "outputs": [
    {
     "data": {
      "text/plain": [
       "<matplotlib.legend.Legend at 0x7ff9f156a810>"
      ]
     },
     "execution_count": 42,
     "metadata": {},
     "output_type": "execute_result"
    },
    {
     "data": {
      "image/png": "[encoded data removed]",
      "text/plain": [
       "<Figure size 1080x576 with 1 Axes>"
      ]
     },
     "metadata": {},
     "output_type": "display_data"
    }
   ],
   "source": [
    "fig, axs = plt.subplots( figsize=(15, 8))\n",
    "\n",
    "# plt.figure(figsize=(16,5))\n",
    "sns.barplot(x=\"Number of levels\", y=\"SSM\", hue=\"Algorithm\", data=ssm_df, order=[\"3\", \"4\", \"5\"], ax= axs)\n",
    "axs.get_legend().remove()\n",
    "axs.tick_params(axis='both', labelsize=18)\n",
    "axs.set_ylabel('Similarity Shape Measurement', fontsize = 22)\n",
    "axs.set_xlabel('Level', fontsize = 22)\n",
    "fig.legend(loc='upper center',\n",
    "           ncol=5,\n",
    "           fontsize=14,\n",
    "           # bbox_to_anchor=(5, .5),\n",
    "          )"
   ]
  },
  {
   "cell_type": "code",
   "execution_count": 43,
   "metadata": {},
   "outputs": [
    {
     "data": {
      "text/html": [
       "<div>\n",
       "<style scoped>\n",
       "    .dataframe tbody tr th:only-of-type {\n",
       "        vertical-align: middle;\n",
       "    }\n",
       "\n",
       "    .dataframe tbody tr th {\n",
       "        vertical-align: top;\n",
       "    }\n",
       "\n",
       "    .dataframe thead th {\n",
       "        text-align: right;\n",
       "    }\n",
       "</style>\n",
       "<table border=\"1\" class=\"dataframe\">\n",
       "  <thead>\n",
       "    <tr style=\"text-align: right;\">\n",
       "      <th></th>\n",
       "      <th>Algorithm</th>\n",
       "      <th>Number of levels</th>\n",
       "      <th>variable</th>\n",
       "      <th>BAS</th>\n",
       "    </tr>\n",
       "  </thead>\n",
       "  <tbody>\n",
       "    <tr>\n",
       "      <th>0</th>\n",
       "      <td>Natural_C</td>\n",
       "      <td>5</td>\n",
       "      <td>BAS</td>\n",
       "      <td>0.965388</td>\n",
       "    </tr>\n",
       "    <tr>\n",
       "      <th>1</th>\n",
       "      <td>Natural_C</td>\n",
       "      <td>5</td>\n",
       "      <td>BAS</td>\n",
       "      <td>0.884940</td>\n",
       "    </tr>\n",
       "    <tr>\n",
       "      <th>2</th>\n",
       "      <td>Natural_C</td>\n",
       "      <td>5</td>\n",
       "      <td>BAS</td>\n",
       "      <td>0.853435</td>\n",
       "    </tr>\n",
       "    <tr>\n",
       "      <th>3</th>\n",
       "      <td>Natural_C</td>\n",
       "      <td>5</td>\n",
       "      <td>BAS</td>\n",
       "      <td>0.500000</td>\n",
       "    </tr>\n",
       "    <tr>\n",
       "      <th>4</th>\n",
       "      <td>Natural_C</td>\n",
       "      <td>5</td>\n",
       "      <td>BAS</td>\n",
       "      <td>0.985628</td>\n",
       "    </tr>\n",
       "    <tr>\n",
       "      <th>...</th>\n",
       "      <td>...</td>\n",
       "      <td>...</td>\n",
       "      <td>...</td>\n",
       "      <td>...</td>\n",
       "    </tr>\n",
       "    <tr>\n",
       "      <th>9400</th>\n",
       "      <td>Adap_DBSCAN</td>\n",
       "      <td>3</td>\n",
       "      <td>BAS</td>\n",
       "      <td>0.985288</td>\n",
       "    </tr>\n",
       "    <tr>\n",
       "      <th>9401</th>\n",
       "      <td>Adap_DBSCAN</td>\n",
       "      <td>3</td>\n",
       "      <td>BAS</td>\n",
       "      <td>0.970695</td>\n",
       "    </tr>\n",
       "    <tr>\n",
       "      <th>9402</th>\n",
       "      <td>Adap_DBSCAN</td>\n",
       "      <td>3</td>\n",
       "      <td>BAS</td>\n",
       "      <td>0.833263</td>\n",
       "    </tr>\n",
       "    <tr>\n",
       "      <th>9403</th>\n",
       "      <td>Adap_DBSCAN</td>\n",
       "      <td>3</td>\n",
       "      <td>BAS</td>\n",
       "      <td>0.816131</td>\n",
       "    </tr>\n",
       "    <tr>\n",
       "      <th>9404</th>\n",
       "      <td>Adap_DBSCAN</td>\n",
       "      <td>3</td>\n",
       "      <td>BAS</td>\n",
       "      <td>0.500000</td>\n",
       "    </tr>\n",
       "  </tbody>\n",
       "</table>\n",
       "<p>9405 rows × 4 columns</p>\n",
       "</div>"
      ],
      "text/plain": [
       "        Algorithm Number of levels variable       BAS\n",
       "0       Natural_C                5      BAS  0.965388\n",
       "1       Natural_C                5      BAS  0.884940\n",
       "2       Natural_C                5      BAS  0.853435\n",
       "3       Natural_C                5      BAS  0.500000\n",
       "4       Natural_C                5      BAS  0.985628\n",
       "...           ...              ...      ...       ...\n",
       "9400  Adap_DBSCAN                3      BAS  0.985288\n",
       "9401  Adap_DBSCAN                3      BAS  0.970695\n",
       "9402  Adap_DBSCAN                3      BAS  0.833263\n",
       "9403  Adap_DBSCAN                3      BAS  0.816131\n",
       "9404  Adap_DBSCAN                3      BAS  0.500000\n",
       "\n",
       "[9405 rows x 4 columns]"
      ]
     },
     "execution_count": 43,
     "metadata": {},
     "output_type": "execute_result"
    }
   ],
   "source": [
    "bas_files = glob.glob(\"../data/Data_frames/*BAS*\")\n",
    "bas_levels = [s.split(\"_\")[-1].split(\".\")[0][-1] for s in nmi_files]\n",
    "bas_df = []\n",
    "for f,l in zip(bas_files,bas_levels):\n",
    "    df = pd.read_csv(f)\n",
    "    df['Number of levels'] = l\n",
    "    bas_df.append(df)\n",
    "    \n",
    "bas_df = (pd.concat(bas_df)\n",
    "          .melt(id_vars=['algorithm', 'Number of levels'], value_vars=['BAS'])\n",
    "          .rename({'algorithm': 'Algorithm',\n",
    "                   'value': 'BAS'}, axis=1))\n",
    "bas_df"
   ]
  },
  {
   "cell_type": "code",
   "execution_count": null,
   "metadata": {},
   "outputs": [],
   "source": []
  }
 ],
 "metadata": {
  "colab": {
   "name": "t-test.ipynb",
   "provenance": []
  },
  "kernelspec": {
   "display_name": "Python 3 (ipykernel)",
   "language": "python",
   "name": "python3"
  },
  "language_info": {
   "codemirror_mode": {
    "name": "ipython",
    "version": 3
   },
   "file_extension": ".py",
   "mimetype": "text/x-python",
   "name": "python",
   "nbconvert_exporter": "python",
   "pygments_lexer": "ipython3",
   "version": "3.7.12"
  }
 },
 "nbformat": 4,
 "nbformat_minor": 4
}
